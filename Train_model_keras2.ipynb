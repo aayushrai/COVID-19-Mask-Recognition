{
<<<<<<< HEAD
 "cells": [
  {
   "cell_type": "markdown",
   "metadata": {
    "colab_type": "text",
    "id": "view-in-github"
   },
   "source": [
    "<a href=\"https://colab.research.google.com/github/aayushrai/Mask_Recognition/blob/master/Train_model.ipynb\" target=\"_parent\"><img src=\"https://colab.research.google.com/assets/colab-badge.svg\" alt=\"Open In Colab\"/></a>"
   ]
  },
  {
   "cell_type": "code",
   "execution_count": null,
   "metadata": {},
   "outputs": [],
   "source": [
    "from google.colab import drive\n",
    "drive.mount('/content/drive/')\n",
    "!unzip \"/content/drive/My Drive/type_of_mask_dataset.zip\""
   ]
  },
  {
   "cell_type": "code",
   "execution_count": 13,
   "metadata": {
    "colab": {},
    "colab_type": "code",
    "id": "GUoxTCsIJ3nX"
   },
   "outputs": [],
   "source": [
    "# import the necessary packages\n",
    "from tensorflow.keras.preprocessing.image import ImageDataGenerator\n",
    "from tensorflow.keras.layers import Dropout\n",
    "from tensorflow.keras.layers import Flatten,Conv2D,MaxPooling2D,Activation\n",
    "from tensorflow.keras.layers import Dense\n",
    "from tensorflow.keras.layers import Input\n",
    "from tensorflow.keras.models import Sequential\n",
    "from tensorflow.keras.optimizers import Adam\n",
    "from tensorflow.keras.utils import to_categorical\n",
    "from sklearn.preprocessing import LabelBinarizer\n",
    "from sklearn.model_selection import train_test_split\n",
    "from sklearn.metrics import classification_report\n",
    "from imutils import paths\n",
    "import matplotlib.pyplot as plt\n",
    "import numpy as np\n",
    "import argparse\n",
    "import os"
   ]
  },
  {
   "cell_type": "code",
   "execution_count": 38,
   "metadata": {
    "colab": {
     "base_uri": "https://localhost:8080/",
     "height": 52
    },
    "colab_type": "code",
    "id": "f0ZksBiTJ430",
    "outputId": "0e6e9476-bc6a-4ca7-b126-6fe383cd7cec"
   },
   "outputs": [
    {
     "name": "stdout",
     "output_type": "stream",
     "text": [
      "Found 2669 images belonging to 4 classes.\n",
      "Found 2669 images belonging to 4 classes.\n"
     ]
    }
   ],
   "source": [
    "train_datagen = ImageDataGenerator(rescale=1./255)\n",
    "test_datagen = ImageDataGenerator(rescale=1./255)\n",
    "train_generator = train_datagen.flow_from_directory(\n",
    "        'dataset',\n",
    "        target_size=(150, 150),\n",
    "        batch_size=32,color_mode=\"grayscale\")\n",
    "validation_generator = test_datagen.flow_from_directory(\n",
    "        'dataset',\n",
    "        target_size=(150, 150),\n",
    "        batch_size=32,color_mode=\"grayscale\")"
   ]
  },
  {
   "cell_type": "code",
   "execution_count": 39,
   "metadata": {},
   "outputs": [],
   "source": [
    "model = Sequential()\n",
    "model.add(Conv2D(32, (3, 3), input_shape=(150, 150,1)))\n",
    "model.add(Activation('relu'))\n",
    "model.add(MaxPooling2D(pool_size=(2, 2)))\n",
    "\n",
    "model.add(Conv2D(32, (3, 3)))\n",
    "model.add(Activation('relu'))\n",
    "model.add(MaxPooling2D(pool_size=(2, 2)))\n",
    "\n",
    "model.add(Conv2D(64, (3, 3)))\n",
    "model.add(Activation('relu'))\n",
    "model.add(MaxPooling2D(pool_size=(2, 2)))\n",
    "\n",
    "model.add(Flatten())  # this converts our 3D feature maps to 1D feature vectors\n",
    "model.add(Dense(64))\n",
    "model.add(Activation('relu'))\n",
    "model.add(Dropout(0.5))\n",
    "model.add(Dense(4))\n",
    "model.add(Activation('sigmoid'))"
   ]
  },
  {
   "cell_type": "code",
   "execution_count": 40,
   "metadata": {
    "colab": {
     "base_uri": "https://localhost:8080/",
     "height": 34
    },
    "colab_type": "code",
    "id": "Ex0PkPhnPl7C",
    "outputId": "1c27adf7-f3b4-4621-8473-d7b93eca694f"
   },
   "outputs": [
    {
     "name": "stdout",
     "output_type": "stream",
     "text": [
      "[INFO] compiling model...\n"
     ]
    }
   ],
   "source": [
    "INIT_LR = 1e-4\n",
    "EPOCHS = 20\n",
    "BS = 32\n",
    "\n",
    "print(\"[INFO] compiling model...\")\n",
    "opt = Adam(lr=INIT_LR, decay=INIT_LR / EPOCHS)\n",
    "model.compile(loss=\"categorical_crossentropy\", optimizer=opt,metrics=[\"accuracy\"])"
   ]
  },
  {
   "cell_type": "code",
   "execution_count": 41,
   "metadata": {
    "colab": {
     "base_uri": "https://localhost:8080/",
     "height": 400
    },
    "colab_type": "code",
    "id": "4-zT0jhsQFSy",
    "outputId": "268520b6-2f89-4c53-baa8-46d76954db71"
   },
   "outputs": [
    {
     "name": "stdout",
     "output_type": "stream",
     "text": [
      "[INFO] training head...\n",
      "Epoch 1/20\n",
      "124/124 [==============================] - 143s 1s/step - loss: 1.3447 - accuracy: 0.3317 - val_loss: 1.2237 - val_accuracy: 0.4814\n",
      "Epoch 2/20\n",
      "124/124 [==============================] - 89s 721ms/step - loss: 1.1927 - accuracy: 0.4576 - val_loss: 1.1105 - val_accuracy: 0.5503\n",
      "Epoch 3/20\n",
      "124/124 [==============================] - 90s 727ms/step - loss: 1.1034 - accuracy: 0.5074 - val_loss: 0.9823 - val_accuracy: 0.6481\n",
      "Epoch 4/20\n",
      "124/124 [==============================] - 90s 725ms/step - loss: 1.0200 - accuracy: 0.5634 - val_loss: 0.9194 - val_accuracy: 0.6169\n",
      "Epoch 5/20\n",
      "124/124 [==============================] - 89s 715ms/step - loss: 0.9614 - accuracy: 0.5964 - val_loss: 0.8360 - val_accuracy: 0.6527\n",
      "Epoch 6/20\n",
      "124/124 [==============================] - 90s 728ms/step - loss: 0.9261 - accuracy: 0.6161 - val_loss: 0.7871 - val_accuracy: 0.6969\n",
      "Epoch 7/20\n",
      "124/124 [==============================] - 89s 714ms/step - loss: 0.8699 - accuracy: 0.6356 - val_loss: 0.7008 - val_accuracy: 0.7262\n",
      "Epoch 8/20\n",
      "124/124 [==============================] - 90s 725ms/step - loss: 0.8395 - accuracy: 0.6419 - val_loss: 0.7125 - val_accuracy: 0.7083\n",
      "Epoch 9/20\n",
      "124/124 [==============================] - 88s 706ms/step - loss: 0.8042 - accuracy: 0.6684 - val_loss: 0.6274 - val_accuracy: 0.7522\n",
      "Epoch 10/20\n",
      "124/124 [==============================] - 89s 722ms/step - loss: 0.7588 - accuracy: 0.6906 - val_loss: 0.5926 - val_accuracy: 0.7521\n",
      "Epoch 11/20\n",
      "124/124 [==============================] - 90s 724ms/step - loss: 0.7458 - accuracy: 0.6908 - val_loss: 0.6454 - val_accuracy: 0.7316\n",
      "Epoch 12/20\n",
      "124/124 [==============================] - 89s 721ms/step - loss: 0.7005 - accuracy: 0.7047 - val_loss: 0.5587 - val_accuracy: 0.7670\n",
      "Epoch 13/20\n",
      "124/124 [==============================] - 89s 715ms/step - loss: 0.6862 - accuracy: 0.7145 - val_loss: 0.5256 - val_accuracy: 0.7723\n",
      "Epoch 14/20\n",
      "124/124 [==============================] - 90s 726ms/step - loss: 0.6701 - accuracy: 0.7204 - val_loss: 0.4938 - val_accuracy: 0.7997\n",
      "Epoch 15/20\n",
      "124/124 [==============================] - 78s 633ms/step - loss: 0.6406 - accuracy: 0.7293 - val_loss: 0.4851 - val_accuracy: 0.7891\n",
      "Epoch 16/20\n",
      "124/124 [==============================] - 76s 615ms/step - loss: 0.6176 - accuracy: 0.7379 - val_loss: 0.4416 - val_accuracy: 0.8075\n",
      "Epoch 17/20\n",
      "124/124 [==============================] - 77s 622ms/step - loss: 0.6010 - accuracy: 0.7412 - val_loss: 0.4208 - val_accuracy: 0.8209\n",
      "Epoch 18/20\n",
      "124/124 [==============================] - 83s 668ms/step - loss: 0.5819 - accuracy: 0.7544 - val_loss: 0.4146 - val_accuracy: 0.8121\n",
      "Epoch 19/20\n",
      "124/124 [==============================] - 78s 629ms/step - loss: 0.5680 - accuracy: 0.7682 - val_loss: 0.3846 - val_accuracy: 0.8193\n",
      "Epoch 20/20\n",
      "124/124 [==============================] - 79s 636ms/step - loss: 0.5487 - accuracy: 0.7711 - val_loss: 0.3897 - val_accuracy: 0.8129\n"
     ]
    }
   ],
   "source": [
    "# train the head of the network\n",
    "print(\"[INFO] training head...\")\n",
    "H = model.fit(\n",
    "\ttrain_generator,\n",
    "\tsteps_per_epoch=124,\n",
    "\tvalidation_data=validation_generator,\n",
    "\tvalidation_steps=124,epochs=EPOCHS)"
   ]
  },
  {
   "cell_type": "code",
   "execution_count": 20,
   "metadata": {
    "colab": {
     "base_uri": "https://localhost:8080/",
     "height": 34
    },
    "colab_type": "code",
    "id": "LWL3TUQ1Qnrq",
    "outputId": "fb95052c-93a5-43d4-90ac-ff7f52710476"
   },
   "outputs": [
    {
     "name": "stdout",
     "output_type": "stream",
     "text": [
      "[INFO] saving mask detector model...\n"
     ]
    }
   ],
   "source": [
    "print(\"[INFO] saving mask detector model...\")\n",
    "model.save(\"mask_type.h5\", save_format=\"h5\")"
   ]
  }
 ],
 "metadata": {
  "accelerator": "GPU",
  "colab": {
   "authorship_tag": "ABX9TyOoww7EAIJLL+llrAfURBGJ",
   "include_colab_link": true,
   "name": "model_training.ipynb",
   "provenance": [],
   "toc_visible": true
  },
  "kernelspec": {
   "display_name": "Python 3",
   "language": "python",
   "name": "python3"
  },
  "language_info": {
   "codemirror_mode": {
    "name": "ipython",
    "version": 3
   },
   "file_extension": ".py",
   "mimetype": "text/x-python",
   "name": "python",
   "nbconvert_exporter": "python",
   "pygments_lexer": "ipython3",
   "version": "3.6.9"
  }
 },
 "nbformat": 4,
 "nbformat_minor": 1
}
=======
  "nbformat": 4,
  "nbformat_minor": 0,
  "metadata": {
    "accelerator": "GPU",
    "colab": {
      "name": "Train_model_keras.ipynb",
      "provenance": [],
      "toc_visible": true,
      "include_colab_link": true
    },
    "kernelspec": {
      "display_name": "Python 3",
      "language": "python",
      "name": "python3"
    },
    "language_info": {
      "codemirror_mode": {
        "name": "ipython",
        "version": 3
      },
      "file_extension": ".py",
      "mimetype": "text/x-python",
      "name": "python",
      "nbconvert_exporter": "python",
      "pygments_lexer": "ipython3",
      "version": "3.6.9"
    }
  },
  "cells": [
    {
      "cell_type": "markdown",
      "metadata": {
        "id": "view-in-github",
        "colab_type": "text"
      },
      "source": [
        "<a href=\"https://colab.research.google.com/github/aayushrai/COVID-19-Mask-Recognition/blob/master/Train_model_keras.ipynb\" target=\"_parent\"><img src=\"https://colab.research.google.com/assets/colab-badge.svg\" alt=\"Open In Colab\"/></a>"
      ]
    },
    {
      "cell_type": "code",
      "metadata": {
        "id": "qJO-WMNVD5no",
        "colab_type": "code",
        "colab": {
          "base_uri": "https://localhost:8080/",
          "height": 88
        },
        "outputId": "28bddb7f-39be-46dd-f59c-0d348fafa74a"
      },
      "source": [
        "from google.colab import drive\n",
        "drive.mount('/content/drive/')\n",
        "!unzip \"/content/drive/My Drive/type_of_mask_dataset.zip\""
      ],
      "execution_count": 1,
      "outputs": [
        {
          "output_type": "stream",
          "text": [
            "Drive already mounted at /content/drive/; to attempt to forcibly remount, call drive.mount(\"/content/drive/\", force_remount=True).\n",
            "Archive:  /content/drive/My Drive/type_of_mask_dataset.zip\n",
            "replace dataset/hankerchief/with-mask-0.jpg? [y]es, [n]o, [A]ll, [N]one, [r]ename: n\n",
            "replace dataset/hankerchief/with-mask-1.jpg? [y]es, [n]o, [A]ll, [N]one, [r]ename: N\n"
          ],
          "name": "stdout"
        }
      ]
    },
    {
      "cell_type": "code",
      "metadata": {
        "colab_type": "code",
        "id": "GUoxTCsIJ3nX",
        "colab": {}
      },
      "source": [
        "# import the necessary packages\n",
        "from tensorflow.keras.preprocessing.image import ImageDataGenerator\n",
        "from tensorflow.keras.layers import Dropout\n",
        "from tensorflow.keras.layers import Flatten,Conv2D,MaxPooling2D,Activation\n",
        "from tensorflow.keras.layers import Dense\n",
        "from tensorflow.keras.layers import Input\n",
        "from tensorflow.keras.models import Sequential\n",
        "from tensorflow.keras.optimizers import Adam\n",
        "from tensorflow.keras.utils import to_categorical\n",
        "import numpy as np\n",
        "import os"
      ],
      "execution_count": 1,
      "outputs": []
    },
    {
      "cell_type": "code",
      "metadata": {
        "colab_type": "code",
        "id": "f0ZksBiTJ430",
        "colab": {
          "base_uri": "https://localhost:8080/",
          "height": 52
        },
        "outputId": "96f93e7a-2104-4382-ec00-dcdae688fa5a"
      },
      "source": [
        "train_datagen = ImageDataGenerator(rescale=1./255)\n",
        "test_datagen = ImageDataGenerator(rescale=1./255)\n",
        "train_generator = train_datagen.flow_from_directory(\n",
        "         '/content/dataset',\n",
        "        target_size=(150, 150),\n",
        "        batch_size=20,color_mode=\"grayscale\")\n",
        "validation_generator = test_datagen.flow_from_directory(\n",
        "         '/content/dataset',\n",
        "        target_size=(150, 150),\n",
        "        batch_size=20,color_mode=\"grayscale\")"
      ],
      "execution_count": 4,
      "outputs": [
        {
          "output_type": "stream",
          "text": [
            "Found 2669 images belonging to 4 classes.\n",
            "Found 2669 images belonging to 4 classes.\n"
          ],
          "name": "stdout"
        }
      ]
    },
    {
      "cell_type": "code",
      "metadata": {
        "id": "Z0VgDGrkD5n-",
        "colab_type": "code",
        "colab": {}
      },
      "source": [
        "model = Sequential()\n",
        "model.add(Conv2D(32, (3, 3), input_shape=(150, 150,1)))\n",
        "model.add(Activation('relu'))\n",
        "model.add(MaxPooling2D(pool_size=(2, 2)))\n",
        "\n",
        "# model.add(Conv2D(32, (3, 3)))\n",
        "# model.add(Activation('relu'))\n",
        "# model.add(MaxPooling2D(pool_size=(2, 2)))\n",
        "\n",
        "model.add(Conv2D(64, (3, 3)))\n",
        "model.add(Activation('relu'))\n",
        "model.add(MaxPooling2D(pool_size=(2, 2)))\n",
        "\n",
        "model.add(Flatten())  # this converts our 3D feature maps to 1D feature vectors\n",
        "model.add(Dense(64))\n",
        "model.add(Activation('relu'))\n",
        "model.add(Dropout(0.5))\n",
        "model.add(Dense(4))\n",
        "model.add(Activation('sigmoid'))"
      ],
      "execution_count": 5,
      "outputs": []
    },
    {
      "cell_type": "code",
      "metadata": {
        "colab_type": "code",
        "id": "Ex0PkPhnPl7C",
        "colab": {}
      },
      "source": [
        "model.compile(loss=\"categorical_crossentropy\", optimizer=\"adam\",metrics=[\"accuracy\"])"
      ],
      "execution_count": 6,
      "outputs": []
    },
    {
      "cell_type": "code",
      "metadata": {
        "colab_type": "code",
        "id": "4-zT0jhsQFSy",
        "colab": {
          "base_uri": "https://localhost:8080/",
          "height": 1000
        },
        "outputId": "f9efc974-d668-4ebb-e3ce-61ebef9d62c6"
      },
      "source": [
        "# train the head of the network\n",
        "print(\"[INFO] training head...\")\n",
        "H = model.fit(\n",
        "\ttrain_generator,\n",
        "\tsteps_per_epoch=80,\n",
        "\tvalidation_data=validation_generator,\n",
        "\tvalidation_steps=80,epochs=50)"
      ],
      "execution_count": 7,
      "outputs": [
        {
          "output_type": "stream",
          "text": [
            "[INFO] training head...\n",
            "Epoch 1/50\n",
            "80/80 [==============================] - 14s 177ms/step - loss: 1.3308 - accuracy: 0.3650 - val_loss: 1.3534 - val_accuracy: 0.3456\n",
            "Epoch 2/50\n",
            "80/80 [==============================] - 14s 171ms/step - loss: 1.1989 - accuracy: 0.4181 - val_loss: 1.3269 - val_accuracy: 0.3256\n",
            "Epoch 3/50\n",
            "80/80 [==============================] - 14s 176ms/step - loss: 1.0966 - accuracy: 0.4984 - val_loss: 1.2198 - val_accuracy: 0.4475\n",
            "Epoch 4/50\n",
            "80/80 [==============================] - 14s 172ms/step - loss: 1.0661 - accuracy: 0.5125 - val_loss: 1.3944 - val_accuracy: 0.3375\n",
            "Epoch 5/50\n",
            "80/80 [==============================] - 14s 175ms/step - loss: 1.0578 - accuracy: 0.5494 - val_loss: 1.5473 - val_accuracy: 0.3131\n",
            "Epoch 6/50\n",
            "80/80 [==============================] - 14s 173ms/step - loss: 0.9805 - accuracy: 0.5765 - val_loss: 1.3031 - val_accuracy: 0.4069\n",
            "Epoch 7/50\n",
            "80/80 [==============================] - 14s 175ms/step - loss: 0.9159 - accuracy: 0.6149 - val_loss: 1.4051 - val_accuracy: 0.3875\n",
            "Epoch 8/50\n",
            "80/80 [==============================] - 14s 175ms/step - loss: 0.8816 - accuracy: 0.6363 - val_loss: 1.2754 - val_accuracy: 0.4588\n",
            "Epoch 9/50\n",
            "80/80 [==============================] - 14s 177ms/step - loss: 0.8956 - accuracy: 0.6237 - val_loss: 1.4193 - val_accuracy: 0.4256\n",
            "Epoch 10/50\n",
            "80/80 [==============================] - 14s 177ms/step - loss: 0.8500 - accuracy: 0.6519 - val_loss: 1.5690 - val_accuracy: 0.4100\n",
            "Epoch 11/50\n",
            "80/80 [==============================] - 14s 176ms/step - loss: 0.7614 - accuracy: 0.6606 - val_loss: 1.6078 - val_accuracy: 0.4344\n",
            "Epoch 12/50\n",
            "80/80 [==============================] - 14s 176ms/step - loss: 0.7519 - accuracy: 0.6935 - val_loss: 1.4952 - val_accuracy: 0.4250\n",
            "Epoch 13/50\n",
            "80/80 [==============================] - 14s 173ms/step - loss: 0.7166 - accuracy: 0.7081 - val_loss: 1.8778 - val_accuracy: 0.4125\n",
            "Epoch 14/50\n",
            "80/80 [==============================] - 14s 176ms/step - loss: 0.6956 - accuracy: 0.7094 - val_loss: 1.5323 - val_accuracy: 0.4462\n",
            "Epoch 15/50\n",
            "80/80 [==============================] - 14s 174ms/step - loss: 0.6907 - accuracy: 0.7143 - val_loss: 1.5574 - val_accuracy: 0.4519\n",
            "Epoch 16/50\n",
            "80/80 [==============================] - 14s 172ms/step - loss: 0.6687 - accuracy: 0.7099 - val_loss: 1.8103 - val_accuracy: 0.4269\n",
            "Epoch 17/50\n",
            "80/80 [==============================] - 14s 172ms/step - loss: 0.6116 - accuracy: 0.7300 - val_loss: 1.7161 - val_accuracy: 0.4387\n",
            "Epoch 18/50\n",
            "80/80 [==============================] - 14s 173ms/step - loss: 0.6168 - accuracy: 0.7313 - val_loss: 1.6356 - val_accuracy: 0.4744\n",
            "Epoch 19/50\n",
            "80/80 [==============================] - 14s 172ms/step - loss: 0.5779 - accuracy: 0.7500 - val_loss: 2.2276 - val_accuracy: 0.4281\n",
            "Epoch 20/50\n",
            "80/80 [==============================] - 14s 171ms/step - loss: 0.5751 - accuracy: 0.7401 - val_loss: 1.8100 - val_accuracy: 0.4456\n",
            "Epoch 21/50\n",
            "80/80 [==============================] - 14s 171ms/step - loss: 0.5593 - accuracy: 0.7476 - val_loss: 2.4706 - val_accuracy: 0.4031\n",
            "Epoch 22/50\n",
            "80/80 [==============================] - 14s 174ms/step - loss: 0.5612 - accuracy: 0.7464 - val_loss: 1.8626 - val_accuracy: 0.4475\n",
            "Epoch 23/50\n",
            "80/80 [==============================] - 14s 170ms/step - loss: 0.5179 - accuracy: 0.7719 - val_loss: 2.3877 - val_accuracy: 0.4269\n",
            "Epoch 24/50\n",
            "80/80 [==============================] - 14s 174ms/step - loss: 0.5083 - accuracy: 0.7653 - val_loss: 2.6749 - val_accuracy: 0.4081\n",
            "Epoch 25/50\n",
            "80/80 [==============================] - 14s 173ms/step - loss: 0.5063 - accuracy: 0.7738 - val_loss: 3.1289 - val_accuracy: 0.4044\n",
            "Epoch 26/50\n",
            "80/80 [==============================] - 14s 174ms/step - loss: 0.4535 - accuracy: 0.7942 - val_loss: 2.9512 - val_accuracy: 0.4400\n",
            "Epoch 27/50\n",
            "80/80 [==============================] - 14s 172ms/step - loss: 0.4797 - accuracy: 0.7892 - val_loss: 2.7688 - val_accuracy: 0.4338\n",
            "Epoch 28/50\n",
            "80/80 [==============================] - 14s 177ms/step - loss: 0.4708 - accuracy: 0.7950 - val_loss: 1.5588 - val_accuracy: 0.5300\n",
            "Epoch 29/50\n",
            "80/80 [==============================] - 14s 175ms/step - loss: 0.4449 - accuracy: 0.7931 - val_loss: 2.8194 - val_accuracy: 0.4437\n",
            "Epoch 30/50\n",
            "80/80 [==============================] - 14s 174ms/step - loss: 0.4622 - accuracy: 0.7898 - val_loss: 3.0103 - val_accuracy: 0.4200\n",
            "Epoch 31/50\n",
            "80/80 [==============================] - 14s 175ms/step - loss: 0.4508 - accuracy: 0.7816 - val_loss: 3.0405 - val_accuracy: 0.4406\n",
            "Epoch 32/50\n",
            "80/80 [==============================] - 14s 172ms/step - loss: 0.4691 - accuracy: 0.7894 - val_loss: 2.1829 - val_accuracy: 0.4956\n",
            "Epoch 33/50\n",
            "80/80 [==============================] - 14s 172ms/step - loss: 0.4361 - accuracy: 0.7841 - val_loss: 3.0751 - val_accuracy: 0.4325\n",
            "Epoch 34/50\n",
            "80/80 [==============================] - 14s 175ms/step - loss: 0.4663 - accuracy: 0.7837 - val_loss: 2.2815 - val_accuracy: 0.4556\n",
            "Epoch 35/50\n",
            "80/80 [==============================] - 14s 177ms/step - loss: 0.4377 - accuracy: 0.7898 - val_loss: 2.9256 - val_accuracy: 0.4331\n",
            "Epoch 36/50\n",
            "80/80 [==============================] - 14s 175ms/step - loss: 0.4190 - accuracy: 0.8099 - val_loss: 3.4495 - val_accuracy: 0.4313\n",
            "Epoch 37/50\n",
            "80/80 [==============================] - 14s 175ms/step - loss: 0.3964 - accuracy: 0.8055 - val_loss: 2.5965 - val_accuracy: 0.4850\n",
            "Epoch 38/50\n",
            "80/80 [==============================] - 14s 176ms/step - loss: 0.4361 - accuracy: 0.8019 - val_loss: 2.7286 - val_accuracy: 0.4588\n",
            "Epoch 39/50\n",
            "80/80 [==============================] - 14s 177ms/step - loss: 0.4184 - accuracy: 0.8031 - val_loss: 3.2437 - val_accuracy: 0.4544\n",
            "Epoch 40/50\n",
            "80/80 [==============================] - 14s 175ms/step - loss: 0.4263 - accuracy: 0.8094 - val_loss: 3.3782 - val_accuracy: 0.4019\n",
            "Epoch 41/50\n",
            "80/80 [==============================] - 14s 175ms/step - loss: 0.3875 - accuracy: 0.8131 - val_loss: 2.7843 - val_accuracy: 0.4856\n",
            "Epoch 42/50\n",
            "80/80 [==============================] - 14s 174ms/step - loss: 0.3735 - accuracy: 0.8163 - val_loss: 3.3499 - val_accuracy: 0.4437\n",
            "Epoch 43/50\n",
            "80/80 [==============================] - 14s 178ms/step - loss: 0.3774 - accuracy: 0.8188 - val_loss: 3.4862 - val_accuracy: 0.4525\n",
            "Epoch 44/50\n",
            "80/80 [==============================] - 14s 176ms/step - loss: 0.3574 - accuracy: 0.8320 - val_loss: 3.6432 - val_accuracy: 0.4419\n",
            "Epoch 45/50\n",
            "80/80 [==============================] - 14s 176ms/step - loss: 0.3908 - accuracy: 0.8106 - val_loss: 3.3420 - val_accuracy: 0.4869\n",
            "Epoch 46/50\n",
            "80/80 [==============================] - 14s 173ms/step - loss: 0.3574 - accuracy: 0.8175 - val_loss: 3.9604 - val_accuracy: 0.4144\n",
            "Epoch 47/50\n",
            "80/80 [==============================] - 14s 173ms/step - loss: 0.3610 - accuracy: 0.8307 - val_loss: 4.3122 - val_accuracy: 0.4038\n",
            "Epoch 48/50\n",
            "80/80 [==============================] - 14s 173ms/step - loss: 0.3666 - accuracy: 0.8256 - val_loss: 4.3493 - val_accuracy: 0.4044\n",
            "Epoch 49/50\n",
            "80/80 [==============================] - 14s 173ms/step - loss: 0.3659 - accuracy: 0.8331 - val_loss: 3.2033 - val_accuracy: 0.4913\n",
            "Epoch 50/50\n",
            "80/80 [==============================] - 14s 173ms/step - loss: 0.3282 - accuracy: 0.8395 - val_loss: 4.2090 - val_accuracy: 0.4581\n"
          ],
          "name": "stdout"
        }
      ]
    },
    {
      "cell_type": "code",
      "metadata": {
        "colab_type": "code",
        "id": "LWL3TUQ1Qnrq",
        "colab": {
          "base_uri": "https://localhost:8080/",
          "height": 35
        },
        "outputId": "4de0d98d-b1d0-4e62-bcc4-5666e832e486"
      },
      "source": [
        "print(\"[INFO] saving mask detector model...\")\n",
        "model.save(\"mask_type_keras.h5\", save_format=\"h5\")"
      ],
      "execution_count": 8,
      "outputs": [
        {
          "output_type": "stream",
          "text": [
            "[INFO] saving mask detector model...\n"
          ],
          "name": "stdout"
        }
      ]
    },
    {
      "cell_type": "code",
      "metadata": {
        "id": "X17fV4FQH8M_",
        "colab_type": "code",
        "colab": {}
      },
      "source": [
        ""
      ],
      "execution_count": null,
      "outputs": []
    }
  ]
}
>>>>>>> 810a9b59b2bda30d1ade89f65ccd72b3d0b7c7df
