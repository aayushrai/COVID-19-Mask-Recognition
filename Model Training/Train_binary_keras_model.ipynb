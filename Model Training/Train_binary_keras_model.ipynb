{
  "nbformat": 4,
  "nbformat_minor": 0,
  "metadata": {
    "accelerator": "GPU",
    "colab": {
      "name": "Train_binary_keras_model.ipynb",
      "provenance": [],
      "include_colab_link": true
    },
    "kernelspec": {
      "display_name": "Python 3",
      "language": "python",
      "name": "python3"
    },
    "language_info": {
      "codemirror_mode": {
        "name": "ipython",
        "version": 3
      },
      "file_extension": ".py",
      "mimetype": "text/x-python",
      "name": "python",
      "nbconvert_exporter": "python",
      "pygments_lexer": "ipython3",
      "version": "3.6.9"
    }
  },
  "cells": [
    {
      "cell_type": "markdown",
      "metadata": {
        "id": "view-in-github",
        "colab_type": "text"
      },
      "source": [
        "<a href=\"https://colab.research.google.com/github/aayushrai/COVID-19-Mask-Recognition/blob/master/Train_binary_keras_model.ipynb\" target=\"_parent\"><img src=\"https://colab.research.google.com/assets/colab-badge.svg\" alt=\"Open In Colab\"/></a>"
      ]
    },
    {
      "cell_type": "code",
      "metadata": {
        "id": "qJO-WMNVD5no",
        "colab_type": "code",
        "colab": {
          "base_uri": "https://localhost:8080/",
          "height": 405
        },
        "outputId": "b3761bb7-003e-421d-9ed1-5282a0601fbe"
      },
      "source": [
        "from google.colab import drive\n",
        "drive.mount('/content/drive/')\n",
        "!unzip \"/content/drive/My Drive/dataset.zip\""
      ],
      "execution_count": null,
      "outputs": [
        {
          "output_type": "stream",
          "text": [
            "Drive already mounted at /content/drive/; to attempt to forcibly remount, call drive.mount(\"/content/drive/\", force_remount=True).\n",
            "Archive:  /content/drive/My Drive/dataset.zip\n",
            "replace dataset/mask/with-mask-0.jpg? [y]es, [n]o, [A]ll, [N]one, [r]ename: "
          ],
          "name": "stdout"
        },
        {
          "output_type": "error",
          "ename": "KeyboardInterrupt",
          "evalue": "ignored",
          "traceback": [
            "\u001b[0;31m---------------------------------------------------------------------------\u001b[0m",
            "\u001b[0;31mKeyboardInterrupt\u001b[0m                         Traceback (most recent call last)",
            "\u001b[0;32m<ipython-input-2-3fef645a7775>\u001b[0m in \u001b[0;36m<module>\u001b[0;34m()\u001b[0m\n\u001b[1;32m      1\u001b[0m \u001b[0;32mfrom\u001b[0m \u001b[0mgoogle\u001b[0m\u001b[0;34m.\u001b[0m\u001b[0mcolab\u001b[0m \u001b[0;32mimport\u001b[0m \u001b[0mdrive\u001b[0m\u001b[0;34m\u001b[0m\u001b[0;34m\u001b[0m\u001b[0m\n\u001b[1;32m      2\u001b[0m \u001b[0mdrive\u001b[0m\u001b[0;34m.\u001b[0m\u001b[0mmount\u001b[0m\u001b[0;34m(\u001b[0m\u001b[0;34m'/content/drive/'\u001b[0m\u001b[0;34m)\u001b[0m\u001b[0;34m\u001b[0m\u001b[0;34m\u001b[0m\u001b[0m\n\u001b[0;32m----> 3\u001b[0;31m \u001b[0mget_ipython\u001b[0m\u001b[0;34m(\u001b[0m\u001b[0;34m)\u001b[0m\u001b[0;34m.\u001b[0m\u001b[0msystem\u001b[0m\u001b[0;34m(\u001b[0m\u001b[0;34m'unzip \"/content/drive/My Drive/dataset.zip\"'\u001b[0m\u001b[0;34m)\u001b[0m\u001b[0;34m\u001b[0m\u001b[0;34m\u001b[0m\u001b[0m\n\u001b[0m",
            "\u001b[0;32m/usr/local/lib/python3.6/dist-packages/google/colab/_shell.py\u001b[0m in \u001b[0;36msystem\u001b[0;34m(self, *args, **kwargs)\u001b[0m\n\u001b[1;32m    100\u001b[0m       \u001b[0mkwargs\u001b[0m\u001b[0;34m.\u001b[0m\u001b[0mupdate\u001b[0m\u001b[0;34m(\u001b[0m\u001b[0;34m{\u001b[0m\u001b[0;34m'also_return_output'\u001b[0m\u001b[0;34m:\u001b[0m \u001b[0;32mTrue\u001b[0m\u001b[0;34m}\u001b[0m\u001b[0;34m)\u001b[0m\u001b[0;34m\u001b[0m\u001b[0;34m\u001b[0m\u001b[0m\n\u001b[1;32m    101\u001b[0m \u001b[0;34m\u001b[0m\u001b[0m\n\u001b[0;32m--> 102\u001b[0;31m     \u001b[0moutput\u001b[0m \u001b[0;34m=\u001b[0m \u001b[0m_system_commands\u001b[0m\u001b[0;34m.\u001b[0m\u001b[0m_system_compat\u001b[0m\u001b[0;34m(\u001b[0m\u001b[0mself\u001b[0m\u001b[0;34m,\u001b[0m \u001b[0;34m*\u001b[0m\u001b[0margs\u001b[0m\u001b[0;34m,\u001b[0m \u001b[0;34m**\u001b[0m\u001b[0mkwargs\u001b[0m\u001b[0;34m)\u001b[0m  \u001b[0;31m# pylint:disable=protected-access\u001b[0m\u001b[0;34m\u001b[0m\u001b[0;34m\u001b[0m\u001b[0m\n\u001b[0m\u001b[1;32m    103\u001b[0m \u001b[0;34m\u001b[0m\u001b[0m\n\u001b[1;32m    104\u001b[0m     \u001b[0;32mif\u001b[0m \u001b[0mpip_warn\u001b[0m\u001b[0;34m:\u001b[0m\u001b[0;34m\u001b[0m\u001b[0;34m\u001b[0m\u001b[0m\n",
            "\u001b[0;32m/usr/local/lib/python3.6/dist-packages/google/colab/_system_commands.py\u001b[0m in \u001b[0;36m_system_compat\u001b[0;34m(shell, cmd, also_return_output)\u001b[0m\n\u001b[1;32m    436\u001b[0m   \u001b[0;31m# stack.\u001b[0m\u001b[0;34m\u001b[0m\u001b[0;34m\u001b[0m\u001b[0;34m\u001b[0m\u001b[0m\n\u001b[1;32m    437\u001b[0m   result = _run_command(\n\u001b[0;32m--> 438\u001b[0;31m       shell.var_expand(cmd, depth=2), clear_streamed_output=False)\n\u001b[0m\u001b[1;32m    439\u001b[0m   \u001b[0mshell\u001b[0m\u001b[0;34m.\u001b[0m\u001b[0muser_ns\u001b[0m\u001b[0;34m[\u001b[0m\u001b[0;34m'_exit_code'\u001b[0m\u001b[0;34m]\u001b[0m \u001b[0;34m=\u001b[0m \u001b[0mresult\u001b[0m\u001b[0;34m.\u001b[0m\u001b[0mreturncode\u001b[0m\u001b[0;34m\u001b[0m\u001b[0;34m\u001b[0m\u001b[0m\n\u001b[1;32m    440\u001b[0m   \u001b[0;32mif\u001b[0m \u001b[0;34m-\u001b[0m\u001b[0mresult\u001b[0m\u001b[0;34m.\u001b[0m\u001b[0mreturncode\u001b[0m \u001b[0;32min\u001b[0m \u001b[0m_INTERRUPTED_SIGNALS\u001b[0m\u001b[0;34m:\u001b[0m\u001b[0;34m\u001b[0m\u001b[0;34m\u001b[0m\u001b[0m\n",
            "\u001b[0;32m/usr/local/lib/python3.6/dist-packages/google/colab/_system_commands.py\u001b[0m in \u001b[0;36m_run_command\u001b[0;34m(cmd, clear_streamed_output)\u001b[0m\n\u001b[1;32m    193\u001b[0m       \u001b[0mos\u001b[0m\u001b[0;34m.\u001b[0m\u001b[0mclose\u001b[0m\u001b[0;34m(\u001b[0m\u001b[0mchild_pty\u001b[0m\u001b[0;34m)\u001b[0m\u001b[0;34m\u001b[0m\u001b[0;34m\u001b[0m\u001b[0m\n\u001b[1;32m    194\u001b[0m \u001b[0;34m\u001b[0m\u001b[0m\n\u001b[0;32m--> 195\u001b[0;31m       \u001b[0;32mreturn\u001b[0m \u001b[0m_monitor_process\u001b[0m\u001b[0;34m(\u001b[0m\u001b[0mparent_pty\u001b[0m\u001b[0;34m,\u001b[0m \u001b[0mepoll\u001b[0m\u001b[0;34m,\u001b[0m \u001b[0mp\u001b[0m\u001b[0;34m,\u001b[0m \u001b[0mcmd\u001b[0m\u001b[0;34m,\u001b[0m \u001b[0mupdate_stdin_widget\u001b[0m\u001b[0;34m)\u001b[0m\u001b[0;34m\u001b[0m\u001b[0;34m\u001b[0m\u001b[0m\n\u001b[0m\u001b[1;32m    196\u001b[0m   \u001b[0;32mfinally\u001b[0m\u001b[0;34m:\u001b[0m\u001b[0;34m\u001b[0m\u001b[0;34m\u001b[0m\u001b[0m\n\u001b[1;32m    197\u001b[0m     \u001b[0mepoll\u001b[0m\u001b[0;34m.\u001b[0m\u001b[0mclose\u001b[0m\u001b[0;34m(\u001b[0m\u001b[0;34m)\u001b[0m\u001b[0;34m\u001b[0m\u001b[0;34m\u001b[0m\u001b[0m\n",
            "\u001b[0;32m/usr/lib/python3.6/contextlib.py\u001b[0m in \u001b[0;36m__exit__\u001b[0;34m(self, type, value, traceback)\u001b[0m\n\u001b[1;32m     86\u001b[0m         \u001b[0;32mif\u001b[0m \u001b[0mtype\u001b[0m \u001b[0;32mis\u001b[0m \u001b[0;32mNone\u001b[0m\u001b[0;34m:\u001b[0m\u001b[0;34m\u001b[0m\u001b[0;34m\u001b[0m\u001b[0m\n\u001b[1;32m     87\u001b[0m             \u001b[0;32mtry\u001b[0m\u001b[0;34m:\u001b[0m\u001b[0;34m\u001b[0m\u001b[0;34m\u001b[0m\u001b[0m\n\u001b[0;32m---> 88\u001b[0;31m                 \u001b[0mnext\u001b[0m\u001b[0;34m(\u001b[0m\u001b[0mself\u001b[0m\u001b[0;34m.\u001b[0m\u001b[0mgen\u001b[0m\u001b[0;34m)\u001b[0m\u001b[0;34m\u001b[0m\u001b[0;34m\u001b[0m\u001b[0m\n\u001b[0m\u001b[1;32m     89\u001b[0m             \u001b[0;32mexcept\u001b[0m \u001b[0mStopIteration\u001b[0m\u001b[0;34m:\u001b[0m\u001b[0;34m\u001b[0m\u001b[0;34m\u001b[0m\u001b[0m\n\u001b[1;32m     90\u001b[0m                 \u001b[0;32mreturn\u001b[0m \u001b[0;32mFalse\u001b[0m\u001b[0;34m\u001b[0m\u001b[0;34m\u001b[0m\u001b[0m\n",
            "\u001b[0;32m/usr/local/lib/python3.6/dist-packages/google/colab/_system_commands.py\u001b[0m in \u001b[0;36m_display_stdin_widget\u001b[0;34m(delay_millis)\u001b[0m\n\u001b[1;32m    353\u001b[0m \u001b[0;34m\u001b[0m\u001b[0m\n\u001b[1;32m    354\u001b[0m   \u001b[0mhide_args\u001b[0m \u001b[0;34m=\u001b[0m \u001b[0;34m[\u001b[0m\u001b[0;34m'cell_remove_stdin'\u001b[0m\u001b[0;34m,\u001b[0m \u001b[0;34m{\u001b[0m\u001b[0;34m}\u001b[0m\u001b[0;34m]\u001b[0m\u001b[0;34m\u001b[0m\u001b[0;34m\u001b[0m\u001b[0m\n\u001b[0;32m--> 355\u001b[0;31m   \u001b[0m_message\u001b[0m\u001b[0;34m.\u001b[0m\u001b[0mblocking_request\u001b[0m\u001b[0;34m(\u001b[0m\u001b[0;34m*\u001b[0m\u001b[0mhide_args\u001b[0m\u001b[0;34m,\u001b[0m \u001b[0mparent\u001b[0m\u001b[0;34m=\u001b[0m\u001b[0mshell\u001b[0m\u001b[0;34m.\u001b[0m\u001b[0mparent_header\u001b[0m\u001b[0;34m)\u001b[0m\u001b[0;34m\u001b[0m\u001b[0;34m\u001b[0m\u001b[0m\n\u001b[0m\u001b[1;32m    356\u001b[0m \u001b[0;34m\u001b[0m\u001b[0m\n\u001b[1;32m    357\u001b[0m \u001b[0;34m\u001b[0m\u001b[0m\n",
            "\u001b[0;32m/usr/local/lib/python3.6/dist-packages/google/colab/_message.py\u001b[0m in \u001b[0;36mblocking_request\u001b[0;34m(request_type, request, timeout_sec, parent)\u001b[0m\n\u001b[1;32m    169\u001b[0m   \u001b[0;31m# unique.\u001b[0m\u001b[0;34m\u001b[0m\u001b[0;34m\u001b[0m\u001b[0;34m\u001b[0m\u001b[0m\n\u001b[1;32m    170\u001b[0m   \u001b[0mrequest_id\u001b[0m \u001b[0;34m=\u001b[0m \u001b[0msend_request\u001b[0m\u001b[0;34m(\u001b[0m\u001b[0mrequest_type\u001b[0m\u001b[0;34m,\u001b[0m \u001b[0mrequest\u001b[0m\u001b[0;34m,\u001b[0m \u001b[0mparent\u001b[0m\u001b[0;34m=\u001b[0m\u001b[0mparent\u001b[0m\u001b[0;34m)\u001b[0m\u001b[0;34m\u001b[0m\u001b[0;34m\u001b[0m\u001b[0m\n\u001b[0;32m--> 171\u001b[0;31m   \u001b[0;32mreturn\u001b[0m \u001b[0mread_reply_from_input\u001b[0m\u001b[0;34m(\u001b[0m\u001b[0mrequest_id\u001b[0m\u001b[0;34m,\u001b[0m \u001b[0mtimeout_sec\u001b[0m\u001b[0;34m)\u001b[0m\u001b[0;34m\u001b[0m\u001b[0;34m\u001b[0m\u001b[0m\n\u001b[0m",
            "\u001b[0;32m/usr/local/lib/python3.6/dist-packages/google/colab/_message.py\u001b[0m in \u001b[0;36mread_reply_from_input\u001b[0;34m(message_id, timeout_sec)\u001b[0m\n\u001b[1;32m     99\u001b[0m     \u001b[0mreply\u001b[0m \u001b[0;34m=\u001b[0m \u001b[0m_read_next_input_message\u001b[0m\u001b[0;34m(\u001b[0m\u001b[0;34m)\u001b[0m\u001b[0;34m\u001b[0m\u001b[0;34m\u001b[0m\u001b[0m\n\u001b[1;32m    100\u001b[0m     \u001b[0;32mif\u001b[0m \u001b[0mreply\u001b[0m \u001b[0;34m==\u001b[0m \u001b[0m_NOT_READY\u001b[0m \u001b[0;32mor\u001b[0m \u001b[0;32mnot\u001b[0m \u001b[0misinstance\u001b[0m\u001b[0;34m(\u001b[0m\u001b[0mreply\u001b[0m\u001b[0;34m,\u001b[0m \u001b[0mdict\u001b[0m\u001b[0;34m)\u001b[0m\u001b[0;34m:\u001b[0m\u001b[0;34m\u001b[0m\u001b[0;34m\u001b[0m\u001b[0m\n\u001b[0;32m--> 101\u001b[0;31m       \u001b[0mtime\u001b[0m\u001b[0;34m.\u001b[0m\u001b[0msleep\u001b[0m\u001b[0;34m(\u001b[0m\u001b[0;36m0.025\u001b[0m\u001b[0;34m)\u001b[0m\u001b[0;34m\u001b[0m\u001b[0;34m\u001b[0m\u001b[0m\n\u001b[0m\u001b[1;32m    102\u001b[0m       \u001b[0;32mcontinue\u001b[0m\u001b[0;34m\u001b[0m\u001b[0;34m\u001b[0m\u001b[0m\n\u001b[1;32m    103\u001b[0m     if (reply.get('type') == 'colab_reply' and\n",
            "\u001b[0;31mKeyboardInterrupt\u001b[0m: "
          ]
        }
      ]
    },
    {
      "cell_type": "code",
      "metadata": {
        "colab_type": "code",
        "id": "GUoxTCsIJ3nX",
        "colab": {
          "base_uri": "https://localhost:8080/",
          "height": 35
        },
        "outputId": "22465b96-7e70-4a0f-8a80-67278235b22c"
      },
      "source": [
        "# import the necessary packages\n",
        "from keras.preprocessing.image import ImageDataGenerator\n",
        "from keras.layers import Dropout\n",
        "from keras.layers import Flatten,Conv2D,MaxPooling2D,Activation,Dense,Dropout\n",
        "from keras.models import Sequential\n",
        "import numpy as np\n",
        "import os"
      ],
      "execution_count": 1,
      "outputs": [
        {
          "output_type": "stream",
          "text": [
            "Using TensorFlow backend.\n"
          ],
          "name": "stderr"
        }
      ]
    },
    {
      "cell_type": "code",
      "metadata": {
        "colab_type": "code",
        "id": "f0ZksBiTJ430",
        "colab": {
          "base_uri": "https://localhost:8080/",
          "height": 70
        },
        "outputId": "11c98ae8-026a-41cf-9bf3-4fbb1b09f279"
      },
      "source": [
        "train_datagen = ImageDataGenerator(rescale=1./255)\n",
        "test_datagen = ImageDataGenerator(rescale=1./255)\n",
        "train_generator = train_datagen.flow_from_directory(\n",
        "         '/content/dataset',\n",
        "        target_size=(156, 156),\n",
        "\n",
        "        batch_size=32,color_mode=\"grayscale\",class_mode='binary')\n",
        "validation_generator = test_datagen.flow_from_directory(\n",
        "         '/content/dataset',\n",
        "        target_size=(156, 156),\n",
        "        batch_size=32,color_mode=\"grayscale\",class_mode=\"binary\")\n",
        "print(train_generator.class_indices)"
      ],
      "execution_count": 2,
      "outputs": [
        {
          "output_type": "stream",
          "text": [
            "Found 1347 images belonging to 2 classes.\n",
            "Found 1347 images belonging to 2 classes.\n",
            "{'mask': 0, 'no_mask': 1}\n"
          ],
          "name": "stdout"
        }
      ]
    },
    {
      "cell_type": "code",
      "metadata": {
        "id": "Z0VgDGrkD5n-",
        "colab_type": "code",
        "colab": {}
      },
      "source": [
        "model = Sequential()\n",
        "model.add(Conv2D(32, (3, 3), input_shape=(156, 156,1)))\n",
        "model.add(Activation('relu'))\n",
        "model.add(Conv2D(32, (3, 3)))\n",
        "model.add(Activation('relu'))\n",
        "model.add(Conv2D(64, (3, 3)))\n",
        "model.add(Activation('relu'))\n",
        "model.add(MaxPooling2D(pool_size=(2, 2)))\n",
        "\n",
        "model.add(Flatten())  # this converts our 3D feature maps to 1D feature vectors\n",
        "model.add(Dense(64))\n",
        "\n",
        "model.add(Activation('relu'))\n",
        "model.add(Dropout(0.5))\n",
        "model.add(Dense(1))\n",
        "model.add(Activation('sigmoid'))"
      ],
      "execution_count": 3,
      "outputs": []
    },
    {
      "cell_type": "code",
      "metadata": {
        "colab_type": "code",
        "id": "Ex0PkPhnPl7C",
        "colab": {}
      },
      "source": [
        "\tmodel.compile(loss='binary_crossentropy', optimizer='adam', metrics=['accuracy'])"
      ],
      "execution_count": 4,
      "outputs": []
    },
    {
      "cell_type": "code",
      "metadata": {
        "colab_type": "code",
        "id": "4-zT0jhsQFSy",
        "colab": {
          "base_uri": "https://localhost:8080/",
          "height": 1000
        },
        "outputId": "efbd69e1-05e5-4b55-b1e6-68f067db320e"
      },
      "source": [
        "# train the head of the network\n",
        "print(\"[INFO] training head...\")\n",
        "H = model.fit(train_generator,steps_per_epoch=40,validation_data=validation_generator,validation_steps=40,epochs=50)"
      ],
      "execution_count": 6,
      "outputs": [
        {
          "output_type": "stream",
          "text": [
            "[INFO] training head...\n",
            "Epoch 1/50\n",
            "40/40 [==============================] - 10s 251ms/step - loss: 0.6860 - accuracy: 0.5604 - val_loss: 0.6521 - val_accuracy: 0.6391\n",
            "Epoch 2/50\n",
            "40/40 [==============================] - 10s 260ms/step - loss: 0.6563 - accuracy: 0.6091 - val_loss: 0.6598 - val_accuracy: 0.7266\n",
            "Epoch 3/50\n",
            "40/40 [==============================] - 10s 256ms/step - loss: 0.6399 - accuracy: 0.6363 - val_loss: 0.5671 - val_accuracy: 0.7154\n",
            "Epoch 4/50\n",
            "40/40 [==============================] - 10s 255ms/step - loss: 0.5765 - accuracy: 0.7039 - val_loss: 0.6070 - val_accuracy: 0.7866\n",
            "Epoch 5/50\n",
            "40/40 [==============================] - 10s 245ms/step - loss: 0.5367 - accuracy: 0.7365 - val_loss: 0.4283 - val_accuracy: 0.8313\n",
            "Epoch 6/50\n",
            "40/40 [==============================] - 10s 244ms/step - loss: 0.4608 - accuracy: 0.7922 - val_loss: 0.4145 - val_accuracy: 0.8529\n",
            "Epoch 7/50\n",
            "40/40 [==============================] - 10s 242ms/step - loss: 0.4100 - accuracy: 0.8169 - val_loss: 0.2291 - val_accuracy: 0.8705\n",
            "Epoch 8/50\n",
            "40/40 [==============================] - 10s 238ms/step - loss: 0.2744 - accuracy: 0.8723 - val_loss: 0.2617 - val_accuracy: 0.9241\n",
            "Epoch 9/50\n",
            "40/40 [==============================] - 10s 242ms/step - loss: 0.2518 - accuracy: 0.8905 - val_loss: 0.1111 - val_accuracy: 0.9400\n",
            "Epoch 10/50\n",
            "40/40 [==============================] - 10s 246ms/step - loss: 0.2257 - accuracy: 0.9086 - val_loss: 0.1952 - val_accuracy: 0.9560\n",
            "Epoch 11/50\n",
            "40/40 [==============================] - 10s 239ms/step - loss: 0.2273 - accuracy: 0.9075 - val_loss: 0.1801 - val_accuracy: 0.9544\n",
            "Epoch 12/50\n",
            "40/40 [==============================] - 10s 241ms/step - loss: 0.1647 - accuracy: 0.9312 - val_loss: 0.0288 - val_accuracy: 0.9624\n",
            "Epoch 13/50\n",
            "40/40 [==============================] - 10s 239ms/step - loss: 0.1731 - accuracy: 0.9313 - val_loss: 0.1406 - val_accuracy: 0.9448\n",
            "Epoch 14/50\n",
            "40/40 [==============================] - 10s 241ms/step - loss: 0.1389 - accuracy: 0.9496 - val_loss: 0.0571 - val_accuracy: 0.9744\n",
            "Epoch 15/50\n",
            "40/40 [==============================] - 9s 230ms/step - loss: 0.1142 - accuracy: 0.9488 - val_loss: 0.0353 - val_accuracy: 0.9688\n",
            "Epoch 16/50\n",
            "40/40 [==============================] - 10s 261ms/step - loss: 0.1416 - accuracy: 0.9496 - val_loss: 0.1860 - val_accuracy: 0.9536\n",
            "Epoch 17/50\n",
            "40/40 [==============================] - 10s 257ms/step - loss: 0.1242 - accuracy: 0.9488 - val_loss: 0.0849 - val_accuracy: 0.9712\n",
            "Epoch 18/50\n",
            "40/40 [==============================] - 10s 254ms/step - loss: 0.1073 - accuracy: 0.9592 - val_loss: 0.0169 - val_accuracy: 0.9816\n",
            "Epoch 19/50\n",
            "40/40 [==============================] - 10s 248ms/step - loss: 0.1075 - accuracy: 0.9600 - val_loss: 0.0370 - val_accuracy: 0.9760\n",
            "Epoch 20/50\n",
            "40/40 [==============================] - 10s 242ms/step - loss: 0.1000 - accuracy: 0.9592 - val_loss: 0.0304 - val_accuracy: 0.9848\n",
            "Epoch 21/50\n",
            "40/40 [==============================] - 10s 240ms/step - loss: 0.0863 - accuracy: 0.9672 - val_loss: 0.0171 - val_accuracy: 0.9880\n",
            "Epoch 22/50\n",
            "40/40 [==============================] - 10s 241ms/step - loss: 0.0942 - accuracy: 0.9584 - val_loss: 0.0484 - val_accuracy: 0.9872\n",
            "Epoch 23/50\n",
            "40/40 [==============================] - 10s 242ms/step - loss: 0.0721 - accuracy: 0.9680 - val_loss: 0.0230 - val_accuracy: 0.9912\n",
            "Epoch 24/50\n",
            "40/40 [==============================] - 10s 245ms/step - loss: 0.0735 - accuracy: 0.9680 - val_loss: 0.0258 - val_accuracy: 0.9944\n",
            "Epoch 25/50\n",
            "40/40 [==============================] - 10s 242ms/step - loss: 0.0695 - accuracy: 0.9714 - val_loss: 0.0450 - val_accuracy: 0.9912\n",
            "Epoch 26/50\n",
            "40/40 [==============================] - 10s 243ms/step - loss: 0.0678 - accuracy: 0.9656 - val_loss: 0.0366 - val_accuracy: 0.9936\n",
            "Epoch 27/50\n",
            "40/40 [==============================] - 10s 239ms/step - loss: 0.0556 - accuracy: 0.9792 - val_loss: 0.0175 - val_accuracy: 0.9928\n",
            "Epoch 28/50\n",
            "40/40 [==============================] - 10s 242ms/step - loss: 0.0569 - accuracy: 0.9688 - val_loss: 0.0310 - val_accuracy: 0.9968\n",
            "Epoch 29/50\n",
            "40/40 [==============================] - 9s 229ms/step - loss: 0.0613 - accuracy: 0.9688 - val_loss: 0.0017 - val_accuracy: 0.9945\n",
            "Epoch 30/50\n",
            "40/40 [==============================] - 10s 260ms/step - loss: 0.0517 - accuracy: 0.9784 - val_loss: 0.0011 - val_accuracy: 0.9888\n",
            "Epoch 31/50\n",
            "40/40 [==============================] - 10s 258ms/step - loss: 0.0698 - accuracy: 0.9712 - val_loss: 0.1006 - val_accuracy: 0.9912\n",
            "Epoch 32/50\n",
            "40/40 [==============================] - 10s 255ms/step - loss: 0.0499 - accuracy: 0.9744 - val_loss: 0.0159 - val_accuracy: 0.9960\n",
            "Epoch 33/50\n",
            "40/40 [==============================] - 10s 249ms/step - loss: 0.0458 - accuracy: 0.9768 - val_loss: 0.0078 - val_accuracy: 0.9976\n",
            "Epoch 34/50\n",
            "40/40 [==============================] - 10s 246ms/step - loss: 0.0429 - accuracy: 0.9792 - val_loss: 0.0235 - val_accuracy: 0.9904\n",
            "Epoch 35/50\n",
            "40/40 [==============================] - 10s 240ms/step - loss: 0.0624 - accuracy: 0.9720 - val_loss: 0.0012 - val_accuracy: 0.9944\n",
            "Epoch 36/50\n",
            "40/40 [==============================] - 10s 241ms/step - loss: 0.0681 - accuracy: 0.9766 - val_loss: 0.0151 - val_accuracy: 0.9968\n",
            "Epoch 37/50\n",
            "40/40 [==============================] - 10s 240ms/step - loss: 0.0599 - accuracy: 0.9736 - val_loss: 0.0272 - val_accuracy: 0.9920\n",
            "Epoch 38/50\n",
            "40/40 [==============================] - 10s 239ms/step - loss: 0.0362 - accuracy: 0.9820 - val_loss: 0.0295 - val_accuracy: 0.9968\n",
            "Epoch 39/50\n",
            "40/40 [==============================] - 10s 241ms/step - loss: 0.0451 - accuracy: 0.9752 - val_loss: 0.0118 - val_accuracy: 0.9936\n",
            "Epoch 40/50\n",
            "40/40 [==============================] - 10s 244ms/step - loss: 0.0432 - accuracy: 0.9797 - val_loss: 0.0879 - val_accuracy: 0.9944\n",
            "Epoch 41/50\n",
            "40/40 [==============================] - 10s 243ms/step - loss: 0.0399 - accuracy: 0.9824 - val_loss: 0.0065 - val_accuracy: 0.9976\n",
            "Epoch 42/50\n",
            "40/40 [==============================] - 10s 239ms/step - loss: 0.0510 - accuracy: 0.9744 - val_loss: 0.0083 - val_accuracy: 0.9928\n",
            "Epoch 43/50\n",
            "40/40 [==============================] - 10s 239ms/step - loss: 0.0602 - accuracy: 0.9744 - val_loss: 0.0019 - val_accuracy: 0.9912\n",
            "Epoch 44/50\n",
            "40/40 [==============================] - 9s 229ms/step - loss: 0.0426 - accuracy: 0.9768 - val_loss: 0.0102 - val_accuracy: 0.9930\n",
            "Epoch 45/50\n",
            "40/40 [==============================] - 10s 258ms/step - loss: 0.0324 - accuracy: 0.9848 - val_loss: 1.3107e-04 - val_accuracy: 0.9960\n",
            "Epoch 46/50\n",
            "40/40 [==============================] - 10s 252ms/step - loss: 0.0440 - accuracy: 0.9752 - val_loss: 0.0034 - val_accuracy: 0.9952\n",
            "Epoch 47/50\n",
            "40/40 [==============================] - 10s 251ms/step - loss: 0.0258 - accuracy: 0.9864 - val_loss: 0.0062 - val_accuracy: 0.9960\n",
            "Epoch 48/50\n",
            "40/40 [==============================] - 10s 246ms/step - loss: 0.0310 - accuracy: 0.9816 - val_loss: 0.0023 - val_accuracy: 0.9944\n",
            "Epoch 49/50\n",
            "40/40 [==============================] - 10s 241ms/step - loss: 0.0396 - accuracy: 0.9784 - val_loss: 0.0191 - val_accuracy: 0.9960\n",
            "Epoch 50/50\n",
            "40/40 [==============================] - 10s 238ms/step - loss: 0.0339 - accuracy: 0.9880 - val_loss: 0.0069 - val_accuracy: 0.9944\n"
          ],
          "name": "stdout"
        }
      ]
    },
    {
      "cell_type": "code",
      "metadata": {
        "colab_type": "code",
        "id": "LWL3TUQ1Qnrq",
        "colab": {
          "base_uri": "https://localhost:8080/",
          "height": 35
        },
        "outputId": "44e8417c-dc8b-4e67-e237-529697290357"
      },
      "source": [
        "print(\"[INFO] saving mask detector model...\")\n",
        "model.save(\"mask_noMask.h5\",include_optimizer=False )"
      ],
      "execution_count": 9,
      "outputs": [
        {
          "output_type": "stream",
          "text": [
            "[INFO] saving mask detector model...\n"
          ],
          "name": "stdout"
        }
      ]
    },
    {
      "cell_type": "code",
      "metadata": {
        "id": "X17fV4FQH8M_",
        "colab_type": "code",
        "colab": {
          "base_uri": "https://localhost:8080/",
          "height": 168
        },
        "outputId": "0d44e80b-5349-48ac-e90f-cd588149f9c4"
      },
      "source": [
        ""
      ],
      "execution_count": 8,
      "outputs": [
        {
          "output_type": "error",
          "ename": "AttributeError",
          "evalue": "ignored",
          "traceback": [
            "\u001b[0;31m---------------------------------------------------------------------------\u001b[0m",
            "\u001b[0;31mAttributeError\u001b[0m                            Traceback (most recent call last)",
            "\u001b[0;32m<ipython-input-8-e7f401df0b71>\u001b[0m in \u001b[0;36m<module>\u001b[0;34m()\u001b[0m\n\u001b[0;32m----> 1\u001b[0;31m \u001b[0mH\u001b[0m\u001b[0;34m.\u001b[0m\u001b[0msave\u001b[0m\u001b[0;34m(\u001b[0m\u001b[0;34m\"mask_noMask2.h5\"\u001b[0m\u001b[0;34m)\u001b[0m\u001b[0;34m\u001b[0m\u001b[0;34m\u001b[0m\u001b[0m\n\u001b[0m",
            "\u001b[0;31mAttributeError\u001b[0m: 'History' object has no attribute 'save'"
          ]
        }
      ]
    },
    {
      "cell_type": "code",
      "metadata": {
        "id": "Oi3H0PmF8d4n",
        "colab_type": "code",
        "colab": {}
      },
      "source": [
        ""
      ],
      "execution_count": null,
      "outputs": []
    }
  ]
}