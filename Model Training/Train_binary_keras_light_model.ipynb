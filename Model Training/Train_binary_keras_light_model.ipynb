{
  "nbformat": 4,
  "nbformat_minor": 0,
  "metadata": {
    "accelerator": "GPU",
    "colab": {
      "name": "Train_binary_keras_model.ipynb",
      "provenance": [],
      "collapsed_sections": [],
      "include_colab_link": true
    },
    "kernelspec": {
      "display_name": "Python 3",
      "language": "python",
      "name": "python3"
    },
    "language_info": {
      "codemirror_mode": {
        "name": "ipython",
        "version": 3
      },
      "file_extension": ".py",
      "mimetype": "text/x-python",
      "name": "python",
      "nbconvert_exporter": "python",
      "pygments_lexer": "ipython3",
      "version": "3.6.9"
    }
  },
  "cells": [
    {
      "cell_type": "markdown",
      "metadata": {
        "id": "view-in-github",
        "colab_type": "text"
      },
      "source": [
        "<a href=\"https://colab.research.google.com/github/aayushrai/COVID-19-Mask-Recognition/blob/master/Model%20Training/Train_binary_keras_light_model.ipynb\" target=\"_parent\"><img src=\"https://colab.research.google.com/assets/colab-badge.svg\" alt=\"Open In Colab\"/></a>"
      ]
    },
    {
      "cell_type": "code",
      "metadata": {
        "id": "qJO-WMNVD5no",
        "colab_type": "code",
        "colab": {
          "base_uri": "https://localhost:8080/",
          "height": 80
        },
        "outputId": "acc5e808-42a1-41ce-cd7f-c47432bb3c1c"
      },
      "source": [
        "from google.colab import drive\n",
        "drive.mount('/content/drive/')\n",
        "!unzip \"/content/drive/My Drive/dataset.zip\""
      ],
      "execution_count": null,
      "outputs": [
        {
          "output_type": "stream",
          "text": [
            "Drive already mounted at /content/drive/; to attempt to forcibly remount, call drive.mount(\"/content/drive/\", force_remount=True).\n",
            "Archive:  /content/drive/My Drive/dataset.zip\n",
            "replace dataset/mask/with-mask-0.jpg? [y]es, [n]o, [A]ll, [N]one, [r]ename: "
          ],
          "name": "stdout"
        }
      ]
    },
    {
      "cell_type": "code",
      "metadata": {
        "colab_type": "code",
        "id": "GUoxTCsIJ3nX",
        "colab": {
          "base_uri": "https://localhost:8080/",
          "height": 34
        },
        "outputId": "42ebb492-f7c7-45e4-97b0-9fe2b308fbc2"
      },
      "source": [
        "# import the necessary packages\n",
        "from keras.preprocessing.image import ImageDataGenerator\n",
        "from tensorflow.keras.models import Sequential\n",
        "from tensorflow.keras.layers import Conv2D\n",
        "from tensorflow.keras.layers import MaxPooling2D\n",
        "from tensorflow.keras.layers import Activation\n",
        "from tensorflow.keras.layers import Flatten\n",
        "from tensorflow.keras.layers import Dense\n",
        "from tensorflow.keras import backend as K\n",
        "from tensorflow.keras.preprocessing.image import ImageDataGenerator\n",
        "from tensorflow.keras.optimizers import Adam\n",
        "from sklearn.model_selection import train_test_split\n",
        "from tensorflow.keras.preprocessing.image import img_to_array\n",
        "from tensorflow.keras.utils import to_categorical\n",
        "from imutils import paths\n",
        "import matplotlib.pyplot as plt\n",
        "import numpy as np\n",
        "import argparse\n",
        "import random\n",
        "import cv2\n",
        "import os"
      ],
      "execution_count": 1,
      "outputs": [
        {
          "output_type": "stream",
          "text": [
            "Using TensorFlow backend.\n"
          ],
          "name": "stderr"
        }
      ]
    },
    {
      "cell_type": "code",
      "metadata": {
        "id": "t_Aa8HzmU_QO",
        "colab_type": "code",
        "colab": {}
      },
      "source": [
        "data = []\n",
        "labels = []\n",
        "# grab the image paths and randomly shuffle them\n",
        "imagePaths = sorted(list(paths.list_images(\"dataset\")))\n",
        "random.seed(42)\n",
        "random.shuffle(imagePaths)\n",
        "\n",
        "for imagePath in imagePaths:\n",
        "\t# load the image, pre-process it, and store it in the data list\n",
        "\timage = cv2.imread(imagePath)\n",
        "\timage = cv2.resize(image, (28, 28))\n",
        "\timage = img_to_array(image)\n",
        "\tdata.append(image)\n",
        "\t# extract the class label from the image path and update the\n",
        "\t# labels list\n",
        "\tlabel = imagePath.split(os.path.sep)[-2]\n",
        "\tlabel = 1 if label == \"mask\" else 0\n",
        "\tlabels.append(label)"
      ],
      "execution_count": 3,
      "outputs": []
    },
    {
      "cell_type": "code",
      "metadata": {
        "id": "eCpdOdWSWaiw",
        "colab_type": "code",
        "colab": {}
      },
      "source": [
        "# scale the raw pixel intensities to the range [0, 1]\n",
        "data = np.array(data, dtype=\"float\") / 255.0\n",
        "labels = np.array(labels)\n",
        "# partition the data into training and testing splits using 75% of\n",
        "# the data for training and the remaining 25% for testing\n",
        "(trainX, testX, trainY, testY) = train_test_split(data,\n",
        "\tlabels, test_size=0.25, random_state=42)\n",
        "# convert the labels from integers to vectors\n",
        "trainY = to_categorical(trainY, num_classes=2)\n",
        "testY = to_categorical(testY, num_classes=2)"
      ],
      "execution_count": 7,
      "outputs": []
    },
    {
      "cell_type": "code",
      "metadata": {
        "id": "fofNvqYYV4ps",
        "colab_type": "code",
        "colab": {}
      },
      "source": [
        "aug = ImageDataGenerator(rotation_range=30, width_shift_range=0.1,\n",
        "\theight_shift_range=0.1, shear_range=0.2, zoom_range=0.2,\n",
        "\thorizontal_flip=True, fill_mode=\"nearest\")"
      ],
      "execution_count": 4,
      "outputs": []
    },
    {
      "cell_type": "code",
      "metadata": {
        "id": "Z0VgDGrkD5n-",
        "colab_type": "code",
        "colab": {}
      },
      "source": [
        "model = Sequential()\n",
        "model.add(Conv2D(20, (5, 5), padding=\"same\",input_shape=(28,28,3)))\n",
        "model.add(Activation(\"relu\"))\n",
        "model.add(MaxPooling2D(pool_size=(2, 2), strides=(2, 2)))\n",
        "\n",
        "model.add(Conv2D(50, (5, 5), padding=\"same\"))\n",
        "model.add(Activation(\"relu\"))\n",
        "model.add(MaxPooling2D(pool_size=(2, 2), strides=(2, 2)))\n",
        "\n",
        "model.add(Flatten())\n",
        "model.add(Dense(500))\n",
        "model.add(Activation(\"relu\"))\n",
        "# softmax classifier\n",
        "model.add(Dense(2))\n",
        "model.add(Activation(\"softmax\"))"
      ],
      "execution_count": 5,
      "outputs": []
    },
    {
      "cell_type": "code",
      "metadata": {
        "colab_type": "code",
        "id": "Ex0PkPhnPl7C",
        "colab": {}
      },
      "source": [
        "EPOCHS = 25\n",
        "INIT_LR = 1e-3\n",
        "BS = 32\n",
        "opt = Adam(lr=INIT_LR, decay=INIT_LR / EPOCHS)\n",
        "model.compile(loss=\"binary_crossentropy\", optimizer=opt,metrics=[\"accuracy\"])"
      ],
      "execution_count": 6,
      "outputs": []
    },
    {
      "cell_type": "code",
      "metadata": {
        "colab_type": "code",
        "id": "4-zT0jhsQFSy",
        "colab": {
          "base_uri": "https://localhost:8080/",
          "height": 867
        },
        "outputId": "fc7a836a-8b10-4098-e433-b886f044eaaa"
      },
      "source": [
        "H = model.fit(x=aug.flow(trainX, trainY, batch_size=BS),\n",
        "\tvalidation_data=(testX, testY), steps_per_epoch=len(trainX) // BS,\n",
        "\tepochs=EPOCHS, verbose=1)"
      ],
      "execution_count": 8,
      "outputs": [
        {
          "output_type": "stream",
          "text": [
            "Epoch 1/25\n",
            "31/31 [==============================] - 1s 33ms/step - loss: 0.6807 - accuracy: 0.5897 - val_loss: 0.3416 - val_accuracy: 0.8783\n",
            "Epoch 2/25\n",
            "31/31 [==============================] - 1s 27ms/step - loss: 0.2684 - accuracy: 0.8896 - val_loss: 0.1427 - val_accuracy: 0.9466\n",
            "Epoch 3/25\n",
            "31/31 [==============================] - 1s 26ms/step - loss: 0.2208 - accuracy: 0.9202 - val_loss: 0.1388 - val_accuracy: 0.9525\n",
            "Epoch 4/25\n",
            "31/31 [==============================] - 1s 25ms/step - loss: 0.1909 - accuracy: 0.9274 - val_loss: 0.1121 - val_accuracy: 0.9525\n",
            "Epoch 5/25\n",
            "31/31 [==============================] - 1s 26ms/step - loss: 0.1628 - accuracy: 0.9284 - val_loss: 0.1556 - val_accuracy: 0.9466\n",
            "Epoch 6/25\n",
            "31/31 [==============================] - 1s 26ms/step - loss: 0.1783 - accuracy: 0.9233 - val_loss: 0.1112 - val_accuracy: 0.9614\n",
            "Epoch 7/25\n",
            "31/31 [==============================] - 1s 24ms/step - loss: 0.1350 - accuracy: 0.9489 - val_loss: 0.0736 - val_accuracy: 0.9733\n",
            "Epoch 8/25\n",
            "31/31 [==============================] - 1s 26ms/step - loss: 0.1314 - accuracy: 0.9519 - val_loss: 0.0723 - val_accuracy: 0.9674\n",
            "Epoch 9/25\n",
            "31/31 [==============================] - 1s 26ms/step - loss: 0.1279 - accuracy: 0.9489 - val_loss: 0.1028 - val_accuracy: 0.9644\n",
            "Epoch 10/25\n",
            "31/31 [==============================] - 1s 25ms/step - loss: 0.1072 - accuracy: 0.9540 - val_loss: 0.0732 - val_accuracy: 0.9733\n",
            "Epoch 11/25\n",
            "31/31 [==============================] - 1s 25ms/step - loss: 0.1086 - accuracy: 0.9611 - val_loss: 0.0556 - val_accuracy: 0.9822\n",
            "Epoch 12/25\n",
            "31/31 [==============================] - 1s 25ms/step - loss: 0.0964 - accuracy: 0.9642 - val_loss: 0.0656 - val_accuracy: 0.9674\n",
            "Epoch 13/25\n",
            "31/31 [==============================] - 1s 26ms/step - loss: 0.1070 - accuracy: 0.9601 - val_loss: 0.0600 - val_accuracy: 0.9703\n",
            "Epoch 14/25\n",
            "31/31 [==============================] - 1s 25ms/step - loss: 0.0955 - accuracy: 0.9652 - val_loss: 0.0606 - val_accuracy: 0.9792\n",
            "Epoch 15/25\n",
            "31/31 [==============================] - 1s 26ms/step - loss: 0.0906 - accuracy: 0.9642 - val_loss: 0.0616 - val_accuracy: 0.9822\n",
            "Epoch 16/25\n",
            "31/31 [==============================] - 1s 26ms/step - loss: 0.1187 - accuracy: 0.9519 - val_loss: 0.0693 - val_accuracy: 0.9703\n",
            "Epoch 17/25\n",
            "31/31 [==============================] - 1s 25ms/step - loss: 0.1035 - accuracy: 0.9663 - val_loss: 0.0472 - val_accuracy: 0.9822\n",
            "Epoch 18/25\n",
            "31/31 [==============================] - 1s 26ms/step - loss: 0.0920 - accuracy: 0.9663 - val_loss: 0.0541 - val_accuracy: 0.9733\n",
            "Epoch 19/25\n",
            "31/31 [==============================] - 1s 26ms/step - loss: 0.0878 - accuracy: 0.9683 - val_loss: 0.0567 - val_accuracy: 0.9763\n",
            "Epoch 20/25\n",
            "31/31 [==============================] - 1s 25ms/step - loss: 0.0747 - accuracy: 0.9744 - val_loss: 0.0447 - val_accuracy: 0.9792\n",
            "Epoch 21/25\n",
            "31/31 [==============================] - 1s 26ms/step - loss: 0.1049 - accuracy: 0.9673 - val_loss: 0.0636 - val_accuracy: 0.9733\n",
            "Epoch 22/25\n",
            "31/31 [==============================] - 1s 26ms/step - loss: 0.0810 - accuracy: 0.9714 - val_loss: 0.0445 - val_accuracy: 0.9881\n",
            "Epoch 23/25\n",
            "31/31 [==============================] - 1s 24ms/step - loss: 0.0952 - accuracy: 0.9652 - val_loss: 0.0561 - val_accuracy: 0.9733\n",
            "Epoch 24/25\n",
            "31/31 [==============================] - 1s 26ms/step - loss: 0.0770 - accuracy: 0.9693 - val_loss: 0.0575 - val_accuracy: 0.9763\n",
            "Epoch 25/25\n",
            "31/31 [==============================] - 1s 26ms/step - loss: 0.0726 - accuracy: 0.9714 - val_loss: 0.0495 - val_accuracy: 0.9822\n"
          ],
          "name": "stdout"
        }
      ]
    },
    {
      "cell_type": "code",
      "metadata": {
        "colab_type": "code",
        "id": "LWL3TUQ1Qnrq",
        "colab": {
          "base_uri": "https://localhost:8080/",
          "height": 34
        },
        "outputId": "75b04084-5556-4949-aad0-7d6c53326374"
      },
      "source": [
        "print(\"[INFO] saving mask detector model...\")\n",
        "model.save(\"light_mask_noMask.h5\",include_optimizer=False)"
      ],
      "execution_count": 9,
      "outputs": [
        {
          "output_type": "stream",
          "text": [
            "[INFO] saving mask detector model...\n"
          ],
          "name": "stdout"
        }
      ]
    }
  ]
}