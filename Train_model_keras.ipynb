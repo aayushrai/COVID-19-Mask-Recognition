{
 "cells": [
  {
   "cell_type": "markdown",
   "metadata": {
    "colab_type": "text",
    "id": "view-in-github"
   },
   "source": [
    "<a href=\"https://colab.research.google.com/github/aayushrai/Mask_Recognition/blob/master/Train_model.ipynb\" target=\"_parent\"><img src=\"https://colab.research.google.com/assets/colab-badge.svg\" alt=\"Open In Colab\"/></a>"
   ]
  },
  {
   "cell_type": "code",
   "execution_count": null,
   "metadata": {},
   "outputs": [],
   "source": [
    "from google.colab import drive\n",
    "drive.mount('/content/drive/')\n",
    "!unzip \"/content/drive/My Drive/type_of_mask_dataset.zip\""
   ]
  },
  {
   "cell_type": "code",
   "execution_count": 13,
   "metadata": {
    "colab": {},
    "colab_type": "code",
    "id": "GUoxTCsIJ3nX"
   },
   "outputs": [],
   "source": [
    "# import the necessary packages\n",
    "from tensorflow.keras.preprocessing.image import ImageDataGenerator\n",
    "from tensorflow.keras.layers import Dropout\n",
    "from tensorflow.keras.layers import Flatten,Conv2D,MaxPooling2D,Activation\n",
    "from tensorflow.keras.layers import Dense\n",
    "from tensorflow.keras.layers import Input\n",
    "from tensorflow.keras.models import Sequential\n",
    "from tensorflow.keras.optimizers import Adam\n",
    "from tensorflow.keras.utils import to_categorical\n",
    "from sklearn.preprocessing import LabelBinarizer\n",
    "from sklearn.model_selection import train_test_split\n",
    "from sklearn.metrics import classification_report\n",
    "from imutils import paths\n",
    "import matplotlib.pyplot as plt\n",
    "import numpy as np\n",
    "import argparse\n",
    "import os"
   ]
  },
  {
   "cell_type": "code",
   "execution_count": 38,
   "metadata": {
    "colab": {
     "base_uri": "https://localhost:8080/",
     "height": 52
    },
    "colab_type": "code",
    "id": "f0ZksBiTJ430",
    "outputId": "0e6e9476-bc6a-4ca7-b126-6fe383cd7cec"
   },
   "outputs": [
    {
     "name": "stdout",
     "output_type": "stream",
     "text": [
      "Found 2669 images belonging to 4 classes.\n",
      "Found 2669 images belonging to 4 classes.\n"
     ]
    }
   ],
   "source": [
    "train_datagen = ImageDataGenerator(rescale=1./255)\n",
    "test_datagen = ImageDataGenerator(rescale=1./255)\n",
    "train_generator = train_datagen.flow_from_directory(\n",
    "        'dataset',\n",
    "        target_size=(150, 150),\n",
    "        batch_size=32,color_mode=\"grayscale\")\n",
    "validation_generator = test_datagen.flow_from_directory(\n",
    "        'dataset',\n",
    "        target_size=(150, 150),\n",
    "        batch_size=32,color_mode=\"grayscale\")"
   ]
  },
  {
   "cell_type": "code",
   "execution_count": 39,
   "metadata": {},
   "outputs": [],
   "source": [
    "model = Sequential()\n",
    "model.add(Conv2D(32, (3, 3), input_shape=(150, 150,1)))\n",
    "model.add(Activation('relu'))\n",
    "model.add(MaxPooling2D(pool_size=(2, 2)))\n",
    "\n",
    "model.add(Conv2D(32, (3, 3)))\n",
    "model.add(Activation('relu'))\n",
    "model.add(MaxPooling2D(pool_size=(2, 2)))\n",
    "\n",
    "model.add(Conv2D(64, (3, 3)))\n",
    "model.add(Activation('relu'))\n",
    "model.add(MaxPooling2D(pool_size=(2, 2)))\n",
    "\n",
    "model.add(Flatten())  # this converts our 3D feature maps to 1D feature vectors\n",
    "model.add(Dense(64))\n",
    "model.add(Activation('relu'))\n",
    "model.add(Dropout(0.5))\n",
    "model.add(Dense(4))\n",
    "model.add(Activation('sigmoid'))"
   ]
  },
  {
   "cell_type": "code",
   "execution_count": 40,
   "metadata": {
    "colab": {
     "base_uri": "https://localhost:8080/",
     "height": 34
    },
    "colab_type": "code",
    "id": "Ex0PkPhnPl7C",
    "outputId": "1c27adf7-f3b4-4621-8473-d7b93eca694f"
   },
   "outputs": [
    {
     "name": "stdout",
     "output_type": "stream",
     "text": [
      "[INFO] compiling model...\n"
     ]
    }
   ],
   "source": [
    "INIT_LR = 1e-4\n",
    "EPOCHS = 20\n",
    "BS = 32\n",
    "\n",
    "print(\"[INFO] compiling model...\")\n",
    "opt = Adam(lr=INIT_LR, decay=INIT_LR / EPOCHS)\n",
    "model.compile(loss=\"categorical_crossentropy\", optimizer=opt,metrics=[\"accuracy\"])"
   ]
  },
  {
   "cell_type": "code",
   "execution_count": 41,
   "metadata": {
    "colab": {
     "base_uri": "https://localhost:8080/",
     "height": 400
    },
    "colab_type": "code",
    "id": "4-zT0jhsQFSy",
    "outputId": "268520b6-2f89-4c53-baa8-46d76954db71"
   },
   "outputs": [
    {
     "name": "stdout",
     "output_type": "stream",
     "text": [
      "[INFO] training head...\n",
      "Epoch 1/20\n",
      "124/124 [==============================] - 143s 1s/step - loss: 1.3447 - accuracy: 0.3317 - val_loss: 1.2237 - val_accuracy: 0.4814\n",
      "Epoch 2/20\n",
      "124/124 [==============================] - 89s 721ms/step - loss: 1.1927 - accuracy: 0.4576 - val_loss: 1.1105 - val_accuracy: 0.5503\n",
      "Epoch 3/20\n",
      "124/124 [==============================] - 90s 727ms/step - loss: 1.1034 - accuracy: 0.5074 - val_loss: 0.9823 - val_accuracy: 0.6481\n",
      "Epoch 4/20\n",
      "124/124 [==============================] - 90s 725ms/step - loss: 1.0200 - accuracy: 0.5634 - val_loss: 0.9194 - val_accuracy: 0.6169\n",
      "Epoch 5/20\n",
      "124/124 [==============================] - 89s 715ms/step - loss: 0.9614 - accuracy: 0.5964 - val_loss: 0.8360 - val_accuracy: 0.6527\n",
      "Epoch 6/20\n",
      "124/124 [==============================] - 90s 728ms/step - loss: 0.9261 - accuracy: 0.6161 - val_loss: 0.7871 - val_accuracy: 0.6969\n",
      "Epoch 7/20\n",
      "124/124 [==============================] - 89s 714ms/step - loss: 0.8699 - accuracy: 0.6356 - val_loss: 0.7008 - val_accuracy: 0.7262\n",
      "Epoch 8/20\n",
      "124/124 [==============================] - 90s 725ms/step - loss: 0.8395 - accuracy: 0.6419 - val_loss: 0.7125 - val_accuracy: 0.7083\n",
      "Epoch 9/20\n",
      "124/124 [==============================] - 88s 706ms/step - loss: 0.8042 - accuracy: 0.6684 - val_loss: 0.6274 - val_accuracy: 0.7522\n",
      "Epoch 10/20\n",
      "124/124 [==============================] - 89s 722ms/step - loss: 0.7588 - accuracy: 0.6906 - val_loss: 0.5926 - val_accuracy: 0.7521\n",
      "Epoch 11/20\n",
      "124/124 [==============================] - 90s 724ms/step - loss: 0.7458 - accuracy: 0.6908 - val_loss: 0.6454 - val_accuracy: 0.7316\n",
      "Epoch 12/20\n",
      "124/124 [==============================] - 89s 721ms/step - loss: 0.7005 - accuracy: 0.7047 - val_loss: 0.5587 - val_accuracy: 0.7670\n",
      "Epoch 13/20\n",
      "124/124 [==============================] - 89s 715ms/step - loss: 0.6862 - accuracy: 0.7145 - val_loss: 0.5256 - val_accuracy: 0.7723\n",
      "Epoch 14/20\n",
      "124/124 [==============================] - 90s 726ms/step - loss: 0.6701 - accuracy: 0.7204 - val_loss: 0.4938 - val_accuracy: 0.7997\n",
      "Epoch 15/20\n",
      "124/124 [==============================] - 78s 633ms/step - loss: 0.6406 - accuracy: 0.7293 - val_loss: 0.4851 - val_accuracy: 0.7891\n",
      "Epoch 16/20\n",
      "124/124 [==============================] - 76s 615ms/step - loss: 0.6176 - accuracy: 0.7379 - val_loss: 0.4416 - val_accuracy: 0.8075\n",
      "Epoch 17/20\n",
      "124/124 [==============================] - 77s 622ms/step - loss: 0.6010 - accuracy: 0.7412 - val_loss: 0.4208 - val_accuracy: 0.8209\n",
      "Epoch 18/20\n",
      "124/124 [==============================] - 83s 668ms/step - loss: 0.5819 - accuracy: 0.7544 - val_loss: 0.4146 - val_accuracy: 0.8121\n",
      "Epoch 19/20\n",
      "124/124 [==============================] - 78s 629ms/step - loss: 0.5680 - accuracy: 0.7682 - val_loss: 0.3846 - val_accuracy: 0.8193\n",
      "Epoch 20/20\n",
      "124/124 [==============================] - 79s 636ms/step - loss: 0.5487 - accuracy: 0.7711 - val_loss: 0.3897 - val_accuracy: 0.8129\n"
     ]
    }
   ],
   "source": [
    "# train the head of the network\n",
    "print(\"[INFO] training head...\")\n",
    "H = model.fit(\n",
    "\ttrain_generator,\n",
    "\tsteps_per_epoch=124,\n",
    "\tvalidation_data=validation_generator,\n",
    "\tvalidation_steps=124,epochs=EPOCHS)"
   ]
  },
  {
   "cell_type": "code",
   "execution_count": 20,
   "metadata": {
    "colab": {
     "base_uri": "https://localhost:8080/",
     "height": 34
    },
    "colab_type": "code",
    "id": "LWL3TUQ1Qnrq",
    "outputId": "fb95052c-93a5-43d4-90ac-ff7f52710476"
   },
   "outputs": [
    {
     "name": "stdout",
     "output_type": "stream",
     "text": [
      "[INFO] saving mask detector model...\n"
     ]
    }
   ],
   "source": [
    "print(\"[INFO] saving mask detector model...\")\n",
    "model.save(\"mask_type.h5\", save_format=\"h5\")"
   ]
  }
 ],
 "metadata": {
  "accelerator": "GPU",
  "colab": {
   "authorship_tag": "ABX9TyOoww7EAIJLL+llrAfURBGJ",
   "include_colab_link": true,
   "name": "model_training.ipynb",
   "provenance": [],
   "toc_visible": true
  },
  "kernelspec": {
   "display_name": "Python 3",
   "language": "python",
   "name": "python3"
  },
  "language_info": {
   "codemirror_mode": {
    "name": "ipython",
    "version": 3
   },
   "file_extension": ".py",
   "mimetype": "text/x-python",
   "name": "python",
   "nbconvert_exporter": "python",
   "pygments_lexer": "ipython3",
   "version": "3.6.9"
  }
 },
 "nbformat": 4,
 "nbformat_minor": 1
}
