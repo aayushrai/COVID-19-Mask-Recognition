{
  "nbformat": 4,
  "nbformat_minor": 0,
  "metadata": {
    "colab": {
      "name": "model_training.ipynb",
      "provenance": [],
      "toc_visible": true,
      "authorship_tag": "ABX9TyOoww7EAIJLL+llrAfURBGJ",
      "include_colab_link": true
    },
    "kernelspec": {
      "name": "python3",
      "display_name": "Python 3"
    },
    "accelerator": "GPU"
  },
  "cells": [
    {
      "cell_type": "markdown",
      "metadata": {
        "id": "view-in-github",
        "colab_type": "text"
      },
      "source": [
        "<a href=\"https://colab.research.google.com/github/aayushrai/Mask_Recognition/blob/master/model_training.ipynb\" target=\"_parent\"><img src=\"https://colab.research.google.com/assets/colab-badge.svg\" alt=\"Open In Colab\"/></a>"
      ]
    },
    {
      "cell_type": "code",
      "metadata": {
        "id": "o1oyv-ImLYne",
        "colab_type": "code",
        "outputId": "ff7e67dc-9ae2-485c-da37-eac905f5c489",
        "colab": {
          "base_uri": "https://localhost:8080/",
          "height": 89
        }
      },
      "source": [
        "from google.colab import drive\n",
        "drive.mount('/content/drive/')\n",
        "!unzip \"/content/drive/My Drive/type_of_mask_dataset.zip\""
      ],
      "execution_count": 23,
      "outputs": [
        {
          "output_type": "stream",
          "text": [
            "Drive already mounted at /content/drive/; to attempt to forcibly remount, call drive.mount(\"/content/drive/\", force_remount=True).\n",
            "Archive:  /content/drive/My Drive/type_of_mask_dataset.zip\n",
            "replace dataset/hankerchief/with-mask-0.jpg? [y]es, [n]o, [A]ll, [N]one, [r]ename: N\n"
          ],
          "name": "stdout"
        }
      ]
    },
    {
      "cell_type": "code",
      "metadata": {
        "id": "GUoxTCsIJ3nX",
        "colab_type": "code",
        "colab": {}
      },
      "source": [
        "# import the necessary packages\n",
        "from tensorflow.keras.preprocessing.image import ImageDataGenerator\n",
        "from tensorflow.keras.applications import MobileNetV2\n",
        "from tensorflow.keras.layers import AveragePooling2D\n",
        "from tensorflow.keras.layers import Dropout\n",
        "from tensorflow.keras.layers import Flatten\n",
        "from tensorflow.keras.layers import Dense\n",
        "from tensorflow.keras.layers import Input\n",
        "from tensorflow.keras.models import Model\n",
        "from tensorflow.keras.optimizers import Adam\n",
        "from tensorflow.keras.applications.mobilenet_v2 import preprocess_input\n",
        "from tensorflow.keras.preprocessing.image import img_to_array\n",
        "from tensorflow.keras.preprocessing.image import load_img\n",
        "from tensorflow.keras.utils import to_categorical\n",
        "from sklearn.preprocessing import LabelBinarizer\n",
        "from sklearn.model_selection import train_test_split\n",
        "from sklearn.metrics import classification_report\n",
        "from imutils import paths\n",
        "import matplotlib.pyplot as plt\n",
        "import numpy as np\n",
        "import argparse\n",
        "import os"
      ],
      "execution_count": 0,
      "outputs": []
    },
    {
      "cell_type": "code",
      "metadata": {
        "id": "f0ZksBiTJ430",
        "colab_type": "code",
        "outputId": "0c438403-b05f-46d2-e5de-f04e470f16b6",
        "colab": {
          "base_uri": "https://localhost:8080/",
          "height": 52
        }
      },
      "source": [
        "train_datagen = ImageDataGenerator(rescale=1./255)\n",
        "test_datagen = ImageDataGenerator(rescale=1./255)\n",
        "train_generator = train_datagen.flow_from_directory(\n",
        "        '/content/dataset',\n",
        "        target_size=(224, 224),\n",
        "        batch_size=32)\n",
        "validation_generator = test_datagen.flow_from_directory(\n",
        "        '/content/dataset',\n",
        "        target_size=(224, 224),\n",
        "        batch_size=32)"
      ],
      "execution_count": 25,
      "outputs": [
        {
          "output_type": "stream",
          "text": [
            "Found 2669 images belonging to 4 classes.\n",
            "Found 2669 images belonging to 4 classes.\n"
          ],
          "name": "stdout"
        }
      ]
    },
    {
      "cell_type": "code",
      "metadata": {
        "id": "qZ4Db7axNDtb",
        "colab_type": "code",
        "outputId": "3fb24184-6a55-453c-f679-11e1dcf58aad",
        "colab": {
          "base_uri": "https://localhost:8080/",
          "height": 54
        }
      },
      "source": [
        "baseModel = MobileNetV2(weights=\"imagenet\", include_top=False,input_tensor=Input(shape=(224, 224, 3)))"
      ],
      "execution_count": 26,
      "outputs": [
        {
          "output_type": "stream",
          "text": [
            "WARNING:tensorflow:`input_shape` is undefined or non-square, or `rows` is not in [96, 128, 160, 192, 224]. Weights for input shape (224, 224) will be loaded as the default.\n"
          ],
          "name": "stdout"
        }
      ]
    },
    {
      "cell_type": "code",
      "metadata": {
        "id": "5S6dJ0sYPaij",
        "colab_type": "code",
        "colab": {}
      },
      "source": [
        "# construct the head of the model that will be placed on top of the\n",
        "# the base model\n",
        "headModel = baseModel.output\n",
        "headModel = AveragePooling2D(pool_size=(7, 7))(headModel)\n",
        "headModel = Flatten(name=\"flatten\")(headModel)\n",
        "headModel = Dense(128, activation=\"relu\")(headModel)\n",
        "headModel = Dropout(0.5)(headModel)\n",
        "headModel = Dense(4, activation=\"softmax\")(headModel)"
      ],
      "execution_count": 0,
      "outputs": []
    },
    {
      "cell_type": "code",
      "metadata": {
        "id": "fxxdFykRPgPt",
        "colab_type": "code",
        "colab": {}
      },
      "source": [
        "# place the head FC model on top of the base model (this will become\n",
        "# the actual model we will train)\n",
        "model = Model(inputs=baseModel.input, outputs=headModel)"
      ],
      "execution_count": 0,
      "outputs": []
    },
    {
      "cell_type": "code",
      "metadata": {
        "id": "sI1z5VXqPjcp",
        "colab_type": "code",
        "colab": {}
      },
      "source": [
        "# loop over all layers in the base model and freeze them so they will\n",
        "# *not* be updated during the first training process\n",
        "for layer in baseModel.layers:\n",
        "\tlayer.trainable = False"
      ],
      "execution_count": 0,
      "outputs": []
    },
    {
      "cell_type": "code",
      "metadata": {
        "id": "Ex0PkPhnPl7C",
        "colab_type": "code",
        "outputId": "8886f79f-b3b9-4c3a-9640-d8e97d16a8f1",
        "colab": {
          "base_uri": "https://localhost:8080/",
          "height": 34
        }
      },
      "source": [
        "INIT_LR = 1e-4\n",
        "EPOCHS = 20\n",
        "BS = 32\n",
        "\n",
        "print(\"[INFO] compiling model...\")\n",
        "opt = Adam(lr=INIT_LR, decay=INIT_LR / EPOCHS)\n",
        "model.compile(loss=\"categorical_crossentropy\", optimizer=opt,metrics=[\"accuracy\"])"
      ],
      "execution_count": 30,
      "outputs": [
        {
          "output_type": "stream",
          "text": [
            "[INFO] compiling model...\n"
          ],
          "name": "stdout"
        }
      ]
    },
    {
      "cell_type": "code",
      "metadata": {
        "id": "4-zT0jhsQFSy",
        "colab_type": "code",
        "outputId": "b6bb3afe-8f79-4860-d3a6-8777011ec055",
        "colab": {
          "base_uri": "https://localhost:8080/",
          "height": 746
        }
      },
      "source": [
        "# train the head of the network\n",
        "print(\"[INFO] training head...\")\n",
        "H = model.fit(\n",
        "\ttrain_generator,\n",
        "\tsteps_per_epoch=124,\n",
        "\tvalidation_data=validation_generator,\n",
        "\tvalidation_steps=124,epochs=EPOCHS)"
      ],
      "execution_count": 31,
      "outputs": [
        {
          "output_type": "stream",
          "text": [
            "[INFO] training head...\n",
            "Epoch 1/20\n",
            "124/124 [==============================] - 27s 219ms/step - loss: 0.8273 - accuracy: 0.6569 - val_loss: 0.3669 - val_accuracy: 0.9035\n",
            "Epoch 2/20\n",
            "124/124 [==============================] - 26s 210ms/step - loss: 0.3823 - accuracy: 0.8681 - val_loss: 0.2130 - val_accuracy: 0.9572\n",
            "Epoch 3/20\n",
            "124/124 [==============================] - 26s 208ms/step - loss: 0.2685 - accuracy: 0.9145 - val_loss: 0.1508 - val_accuracy: 0.9728\n",
            "Epoch 4/20\n",
            "124/124 [==============================] - 26s 207ms/step - loss: 0.2088 - accuracy: 0.9385 - val_loss: 0.1164 - val_accuracy: 0.9785\n",
            "Epoch 5/20\n",
            "124/124 [==============================] - 26s 208ms/step - loss: 0.1641 - accuracy: 0.9473 - val_loss: 0.0902 - val_accuracy: 0.9827\n",
            "Epoch 6/20\n",
            "124/124 [==============================] - 26s 208ms/step - loss: 0.1385 - accuracy: 0.9602 - val_loss: 0.0718 - val_accuracy: 0.9901\n",
            "Epoch 7/20\n",
            "124/124 [==============================] - 26s 208ms/step - loss: 0.1164 - accuracy: 0.9679 - val_loss: 0.0632 - val_accuracy: 0.9908\n",
            "Epoch 8/20\n",
            "124/124 [==============================] - 25s 203ms/step - loss: 0.0954 - accuracy: 0.9759 - val_loss: 0.0503 - val_accuracy: 0.9921\n",
            "Epoch 9/20\n",
            "124/124 [==============================] - 25s 205ms/step - loss: 0.0857 - accuracy: 0.9784 - val_loss: 0.0475 - val_accuracy: 0.9934\n",
            "Epoch 10/20\n",
            "124/124 [==============================] - 26s 209ms/step - loss: 0.0776 - accuracy: 0.9787 - val_loss: 0.0383 - val_accuracy: 0.9944\n",
            "Epoch 11/20\n",
            "124/124 [==============================] - 25s 203ms/step - loss: 0.0725 - accuracy: 0.9809 - val_loss: 0.0355 - val_accuracy: 0.9969\n",
            "Epoch 12/20\n",
            "124/124 [==============================] - 26s 206ms/step - loss: 0.0601 - accuracy: 0.9838 - val_loss: 0.0303 - val_accuracy: 0.9982\n",
            "Epoch 13/20\n",
            "124/124 [==============================] - 25s 205ms/step - loss: 0.0580 - accuracy: 0.9858 - val_loss: 0.0269 - val_accuracy: 0.9980\n",
            "Epoch 14/20\n",
            "124/124 [==============================] - 26s 207ms/step - loss: 0.0493 - accuracy: 0.9896 - val_loss: 0.0250 - val_accuracy: 0.9985\n",
            "Epoch 15/20\n",
            "124/124 [==============================] - 25s 205ms/step - loss: 0.0495 - accuracy: 0.9870 - val_loss: 0.0219 - val_accuracy: 0.9985\n",
            "Epoch 16/20\n",
            "124/124 [==============================] - 26s 207ms/step - loss: 0.0430 - accuracy: 0.9889 - val_loss: 0.0207 - val_accuracy: 0.9992\n",
            "Epoch 17/20\n",
            "124/124 [==============================] - 25s 201ms/step - loss: 0.0354 - accuracy: 0.9931 - val_loss: 0.0180 - val_accuracy: 0.9985\n",
            "Epoch 18/20\n",
            "124/124 [==============================] - 25s 204ms/step - loss: 0.0358 - accuracy: 0.9929 - val_loss: 0.0150 - val_accuracy: 0.9995\n",
            "Epoch 19/20\n",
            "124/124 [==============================] - 25s 204ms/step - loss: 0.0313 - accuracy: 0.9949 - val_loss: 0.0140 - val_accuracy: 0.9992\n",
            "Epoch 20/20\n",
            "124/124 [==============================] - 25s 204ms/step - loss: 0.0281 - accuracy: 0.9949 - val_loss: 0.0133 - val_accuracy: 0.9992\n"
          ],
          "name": "stdout"
        }
      ]
    },
    {
      "cell_type": "code",
      "metadata": {
        "id": "LWL3TUQ1Qnrq",
        "colab_type": "code",
        "outputId": "6964b37d-80df-410d-b877-9287ae177690",
        "colab": {
          "base_uri": "https://localhost:8080/",
          "height": 34
        }
      },
      "source": [
        "print(\"[INFO] saving mask detector model...\")\n",
        "model.save(\"mask_type.h5\", save_format=\"h5\")"
      ],
      "execution_count": 32,
      "outputs": [
        {
          "output_type": "stream",
          "text": [
            "[INFO] saving mask detector model...\n"
          ],
          "name": "stdout"
        }
      ]
    },
    {
      "cell_type": "code",
      "metadata": {
        "id": "VJqTYJRETnof",
        "colab_type": "code",
        "outputId": "0c94fd76-2815-4c56-887b-2415408b506d",
        "colab": {
          "base_uri": "https://localhost:8080/",
          "height": 316
        }
      },
      "source": [
        "# plot the training loss and accuracy\n",
        "N = EPOCHS\n",
        "plt.style.use(\"ggplot\")\n",
        "plt.figure()\n",
        "plt.plot( H.history[\"loss\"], label=\"train_loss\")\n",
        "plt.plot (H.history[\"val_loss\"], label=\"val_loss\")\n",
        "plt.plot(np.arange(0, N), H.history[\"accuracy\"], label=\"train_acc\")\n",
        "plt.plot(np.arange(0, N), H.history[\"val_accuracy\"], label=\"val_acc\")\n",
        "plt.title(\"Training Loss and Accuracy\")\n",
        "plt.xlabel(\"Epoch #\")\n",
        "plt.ylabel(\"Loss/Accuracy\")\n",
        "plt.legend(loc=\"lower left\")"
      ],
      "execution_count": 33,
      "outputs": [
        {
          "output_type": "execute_result",
          "data": {
            "text/plain": [
              "<matplotlib.legend.Legend at 0x7f607ad2b1d0>"
            ]
          },
          "metadata": {
            "tags": []
          },
          "execution_count": 33
        },
        {
          "output_type": "display_data",
          "data": {
            "image/png": "[encoded data removed]",
            "text/plain": [
              "<Figure size 432x288 with 1 Axes>"
            ]
          },
          "metadata": {
            "tags": []
          }
        }
      ]
    },
    {
      "cell_type": "code",
      "metadata": {
        "id": "W9kWHC8mUMG9",
        "colab_type": "code",
        "colab": {}
      },
      "source": [
        ""
      ],
      "execution_count": 0,
      "outputs": []
    }
  ]
}